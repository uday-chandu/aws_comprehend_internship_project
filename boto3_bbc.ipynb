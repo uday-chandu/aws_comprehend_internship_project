{
 "cells": [
  {
   "cell_type": "code",
   "execution_count": 1,
   "metadata": {},
   "outputs": [],
   "source": [
    "import boto3\n",
    "from datetime import datetime"
   ]
  },
  {
   "cell_type": "code",
   "execution_count": 2,
   "metadata": {},
   "outputs": [],
   "source": [
    "#connecting to the comprehend service in aws\n",
    "client = boto3.client('comprehend')"
   ]
  },
  {
   "cell_type": "code",
   "execution_count": 3,
   "metadata": {},
   "outputs": [],
   "source": [
    "#create a document classifier in order to train the data\n",
    "response = client.create_document_classifier(\n",
    "    DocumentClassifierName='bbc-train',\n",
    "    DataAccessRoleArn='arn:aws:iam::788405746112:role/uday',\n",
    "    Tags=[\n",
    "        {\n",
    "            'Key': 'comprehendkey',\n",
    "            'Value': 'comprehendvalue'\n",
    "        },\n",
    "    ],\n",
    "    InputDataConfig={\n",
    "        'S3Uri': 's3://bbc-classification/training_set.csv',\n",
    "        #'LabelDelimiter': ','\n",
    "    },\n",
    "    OutputDataConfig={\n",
    "        'S3Uri': 's3://bbc-output/'\n",
    "    },\n",
    "    ClientRequestToken='topic-classification',\n",
    "    LanguageCode='en',\n",
    "    Mode='MULTI_CLASS'\n",
    ")"
   ]
  },
  {
   "cell_type": "code",
   "execution_count": 4,
   "metadata": {},
   "outputs": [
    {
     "data": {
      "text/plain": [
       "'arn:aws:comprehend:us-west-2:788405746112:document-classifier/bbc-train'"
      ]
     },
     "execution_count": 4,
     "metadata": {},
     "output_type": "execute_result"
    }
   ],
   "source": [
    "response.get('DocumentClassifierArn')"
   ]
  },
  {
   "cell_type": "code",
   "execution_count": 5,
   "metadata": {},
   "outputs": [
    {
     "data": {
      "text/plain": [
       "{'DocumentClassifierArn': 'arn:aws:comprehend:us-west-2:788405746112:document-classifier/bbc-train',\n",
       " 'ResponseMetadata': {'RequestId': 'b5f41532-c0b3-406b-86b0-b92ae251c335',\n",
       "  'HTTPStatusCode': 200,\n",
       "  'HTTPHeaders': {'x-amzn-requestid': 'b5f41532-c0b3-406b-86b0-b92ae251c335',\n",
       "   'content-type': 'application/x-amz-json-1.1',\n",
       "   'content-length': '99',\n",
       "   'date': 'Mon, 18 May 2020 13:25:37 GMT'},\n",
       "  'RetryAttempts': 0}}"
      ]
     },
     "execution_count": 5,
     "metadata": {},
     "output_type": "execute_result"
    }
   ],
   "source": [
    "response"
   ]
  },
  {
   "cell_type": "markdown",
   "metadata": {},
   "source": [
    "# Endpoint Creation,Describing,listing and Deleting"
   ]
  },
  {
   "cell_type": "code",
   "execution_count": 3,
   "metadata": {},
   "outputs": [],
   "source": [
    "#creating an endpoint for the predictions purpose this is a api like key that stores the output in a file \n",
    "endpoint_response = client.create_endpoint(\n",
    "    EndpointName='bbc-output',\n",
    "    ModelArn='arn:aws:comprehend:us-west-2:788405746112:document-classifier/bbc-train',\n",
    "    DesiredInferenceUnits=10,\n",
    "    ClientRequestToken='topic-classification',\n",
    "    Tags=[\n",
    "        {\n",
    "            'Key': 'comprehendkey',\n",
    "            'Value': 'comprehendvalue'\n",
    "        },\n",
    "    ]\n",
    ")"
   ]
  },
  {
   "cell_type": "code",
   "execution_count": 4,
   "metadata": {},
   "outputs": [
    {
     "data": {
      "text/plain": [
       "{'EndpointArn': 'arn:aws:comprehend:us-west-2:788405746112:document-classifier-endpoint/bbc-output',\n",
       " 'ResponseMetadata': {'RequestId': '708d7649-2259-4921-9f21-4030dac4c208',\n",
       "  'HTTPStatusCode': 200,\n",
       "  'HTTPHeaders': {'x-amzn-requestid': '708d7649-2259-4921-9f21-4030dac4c208',\n",
       "   'content-type': 'application/x-amz-json-1.1',\n",
       "   'content-length': '99',\n",
       "   'date': 'Sat, 23 May 2020 06:24:41 GMT'},\n",
       "  'RetryAttempts': 0}}"
      ]
     },
     "execution_count": 4,
     "metadata": {},
     "output_type": "execute_result"
    }
   ],
   "source": [
    "endpoint_response"
   ]
  },
  {
   "cell_type": "markdown",
   "metadata": {},
   "source": [
    "# predicting the classes for the test data"
   ]
  },
  {
   "cell_type": "code",
   "execution_count": 4,
   "metadata": {
    "scrolled": true
   },
   "outputs": [
    {
     "data": {
      "text/html": [
       "<div>\n",
       "<style scoped>\n",
       "    .dataframe tbody tr th:only-of-type {\n",
       "        vertical-align: middle;\n",
       "    }\n",
       "\n",
       "    .dataframe tbody tr th {\n",
       "        vertical-align: top;\n",
       "    }\n",
       "\n",
       "    .dataframe thead th {\n",
       "        text-align: right;\n",
       "    }\n",
       "</style>\n",
       "<table border=\"1\" class=\"dataframe\">\n",
       "  <thead>\n",
       "    <tr style=\"text-align: right;\">\n",
       "      <th></th>\n",
       "      <th>0</th>\n",
       "    </tr>\n",
       "  </thead>\n",
       "  <tbody>\n",
       "    <tr>\n",
       "      <th>0</th>\n",
       "      <td>Italy 17-28 Ireland  Two moments of magic from...</td>\n",
       "    </tr>\n",
       "    <tr>\n",
       "      <th>1</th>\n",
       "      <td>Labour battle plan 'hides Blair'  The Tories h...</td>\n",
       "    </tr>\n",
       "    <tr>\n",
       "      <th>2</th>\n",
       "      <td>Rivals of the Â£400 Apple...  The Mac mini is ...</td>\n",
       "    </tr>\n",
       "    <tr>\n",
       "      <th>3</th>\n",
       "      <td>Libya takes $1bn in unfrozen funds  Libya has ...</td>\n",
       "    </tr>\n",
       "    <tr>\n",
       "      <th>4</th>\n",
       "      <td>The comic book genius of Stan Lee  Stan Lee, t...</td>\n",
       "    </tr>\n",
       "  </tbody>\n",
       "</table>\n",
       "</div>"
      ],
      "text/plain": [
       "                                                   0\n",
       "0  Italy 17-28 Ireland  Two moments of magic from...\n",
       "1  Labour battle plan 'hides Blair'  The Tories h...\n",
       "2  Rivals of the Â£400 Apple...  The Mac mini is ...\n",
       "3  Libya takes $1bn in unfrozen funds  Libya has ...\n",
       "4  The comic book genius of Stan Lee  Stan Lee, t..."
      ]
     },
     "execution_count": 4,
     "metadata": {},
     "output_type": "execute_result"
    }
   ],
   "source": [
    "#importing the test data set\n",
    "import pandas as pd\n",
    "df=pd.read_csv('test_set.csv')\n",
    "df.head()"
   ]
  },
  {
   "cell_type": "code",
   "execution_count": 5,
   "metadata": {},
   "outputs": [
    {
     "data": {
      "text/plain": [
       "(25, 1)"
      ]
     },
     "execution_count": 5,
     "metadata": {},
     "output_type": "execute_result"
    }
   ],
   "source": [
    "df.shape"
   ]
  },
  {
   "cell_type": "code",
   "execution_count": 7,
   "metadata": {},
   "outputs": [],
   "source": [
    "describe_endpoint_response = client.describe_endpoint(\n",
    "    EndpointArn='arn:aws:comprehend:us-west-2:788405746112:document-classifier-endpoint/bbc-output'\n",
    ")"
   ]
  },
  {
   "cell_type": "code",
   "execution_count": 8,
   "metadata": {},
   "outputs": [
    {
     "data": {
      "text/plain": [
       "{'EndpointProperties': {'EndpointArn': 'arn:aws:comprehend:us-west-2:788405746112:document-classifier-endpoint/bbc-output',\n",
       "  'Status': 'CREATING',\n",
       "  'ModelArn': 'arn:aws:comprehend:us-west-2:788405746112:document-classifier/bbc-train',\n",
       "  'DesiredInferenceUnits': 10,\n",
       "  'CurrentInferenceUnits': 0,\n",
       "  'CreationTime': datetime.datetime(2020, 5, 23, 11, 54, 41, 281000, tzinfo=tzlocal()),\n",
       "  'LastModifiedTime': datetime.datetime(2020, 5, 23, 11, 54, 41, 281000, tzinfo=tzlocal())},\n",
       " 'ResponseMetadata': {'RequestId': '6756da48-90fa-4bef-91da-c41d339bc766',\n",
       "  'HTTPStatusCode': 200,\n",
       "  'HTTPHeaders': {'x-amzn-requestid': '6756da48-90fa-4bef-91da-c41d339bc766',\n",
       "   'content-type': 'application/x-amz-json-1.1',\n",
       "   'content-length': '348',\n",
       "   'date': 'Sat, 23 May 2020 06:30:31 GMT'},\n",
       "  'RetryAttempts': 0}}"
      ]
     },
     "execution_count": 8,
     "metadata": {},
     "output_type": "execute_result"
    }
   ],
   "source": [
    "describe_endpoint_response"
   ]
  },
  {
   "cell_type": "code",
   "execution_count": 19,
   "metadata": {},
   "outputs": [],
   "source": [
    "#list of end points in use\n",
    "list_endpoint_response = client.list_endpoints(\n",
    "    Filter={\n",
    "        'ModelArn': 'arn:aws:comprehend:us-west-2:788405746112:document-classifier/bbc-train',\n",
    "        #'Status': 'IN_SERVICE',\n",
    "        #'CreationTimeBefore': datetime(2020,5, 24),\n",
    "        #'CreationTimeAfter': datetime(2020,5, 10)\n",
    "    },\n",
    "    #NextToken='next token for result',\n",
    "    #MaxResults=100\n",
    ")"
   ]
  },
  {
   "cell_type": "code",
   "execution_count": 20,
   "metadata": {},
   "outputs": [
    {
     "data": {
      "text/plain": [
       "{'EndpointPropertiesList': [{'EndpointArn': 'arn:aws:comprehend:us-west-2:788405746112:document-classifier-endpoint/bbc-output',\n",
       "   'Status': 'IN_SERVICE',\n",
       "   'ModelArn': 'arn:aws:comprehend:us-west-2:788405746112:document-classifier/bbc-train',\n",
       "   'DesiredInferenceUnits': 10,\n",
       "   'CurrentInferenceUnits': 10,\n",
       "   'CreationTime': datetime.datetime(2020, 5, 23, 11, 54, 41, 281000, tzinfo=tzlocal()),\n",
       "   'LastModifiedTime': datetime.datetime(2020, 5, 23, 11, 54, 41, 281000, tzinfo=tzlocal())}],\n",
       " 'ResponseMetadata': {'RequestId': 'e84d7e56-da9b-45b6-9de4-6a7fcdbaa5e6',\n",
       "  'HTTPStatusCode': 200,\n",
       "  'HTTPHeaders': {'x-amzn-requestid': 'e84d7e56-da9b-45b6-9de4-6a7fcdbaa5e6',\n",
       "   'content-type': 'application/x-amz-json-1.1',\n",
       "   'content-length': '357',\n",
       "   'date': 'Sat, 23 May 2020 06:51:21 GMT'},\n",
       "  'RetryAttempts': 0}}"
      ]
     },
     "execution_count": 20,
     "metadata": {},
     "output_type": "execute_result"
    }
   ],
   "source": [
    "list_endpoint_response"
   ]
  },
  {
   "cell_type": "code",
   "execution_count": 26,
   "metadata": {},
   "outputs": [],
   "source": [
    "#predictions of the test data can be get using this for loop\n",
    "#for the endpoint classification the length of text should be less than 5000 words so that it wont raises an error\n",
    "predictions=[]\n",
    "for text in df['0']:\n",
    "    response = client.classify_document(\n",
    "        Text=text,\n",
    "        EndpointArn='arn:aws:comprehend:us-west-2:788405746112:document-classifier-endpoint/bbc-output'\n",
    "    )\n",
    "    predictions.append(response)"
   ]
  },
  {
   "cell_type": "code",
   "execution_count": 27,
   "metadata": {},
   "outputs": [
    {
     "data": {
      "text/plain": [
       "{'Classes': [{'Name': 'tech', 'Score': 1.0},\n",
       "  {'Name': 'sport', 'Score': 0.0},\n",
       "  {'Name': 'entertainment', 'Score': 0.0}],\n",
       " 'ResponseMetadata': {'RequestId': 'd3845bb9-fd69-4d2b-9ae9-d40684e5a0b0',\n",
       "  'HTTPStatusCode': 200,\n",
       "  'HTTPHeaders': {'x-amzn-requestid': 'd3845bb9-fd69-4d2b-9ae9-d40684e5a0b0',\n",
       "   'content-type': 'application/x-amz-json-1.1',\n",
       "   'content-length': '107',\n",
       "   'date': 'Sat, 23 May 2020 07:09:01 GMT'},\n",
       "  'RetryAttempts': 2}}"
      ]
     },
     "execution_count": 27,
     "metadata": {},
     "output_type": "execute_result"
    }
   ],
   "source": [
    "response"
   ]
  },
  {
   "cell_type": "markdown",
   "metadata": {},
   "source": [
    "# deleting the endpoint"
   ]
  },
  {
   "cell_type": "code",
   "execution_count": 28,
   "metadata": {},
   "outputs": [],
   "source": [
    "response = client.delete_endpoint(\n",
    "    EndpointArn='arn:aws:comprehend:us-west-2:788405746112:document-classifier-endpoint/bbc-output'\n",
    ")"
   ]
  },
  {
   "cell_type": "code",
   "execution_count": 29,
   "metadata": {},
   "outputs": [
    {
     "data": {
      "text/plain": [
       "{'ResponseMetadata': {'RequestId': '6c7e6b46-7b0c-4005-b41d-180a18a555a9',\n",
       "  'HTTPStatusCode': 200,\n",
       "  'HTTPHeaders': {'x-amzn-requestid': '6c7e6b46-7b0c-4005-b41d-180a18a555a9',\n",
       "   'content-type': 'application/x-amz-json-1.1',\n",
       "   'content-length': '2',\n",
       "   'date': 'Sat, 23 May 2020 07:11:43 GMT'},\n",
       "  'RetryAttempts': 0}}"
      ]
     },
     "execution_count": 29,
     "metadata": {},
     "output_type": "execute_result"
    }
   ],
   "source": [
    "response"
   ]
  },
  {
   "cell_type": "markdown",
   "metadata": {},
   "source": [
    "# Classifier Document job"
   ]
  },
  {
   "cell_type": "code",
   "execution_count": 3,
   "metadata": {},
   "outputs": [],
   "source": [
    "#start document classification job\n",
    "classification_response = client.start_document_classification_job(\n",
    "    JobName='test-classification',\n",
    "    DocumentClassifierArn='arn:aws:comprehend:us-west-2:788405746112:document-classifier/bbc-train',\n",
    "    InputDataConfig={\n",
    "        'S3Uri':'s3://bbc-classification/test_set_aws.csv',\n",
    "        'InputFormat':'ONE_DOC_PER_LINE'\n",
    "    },\n",
    "    OutputDataConfig={\n",
    "        'S3Uri': 's3://bbc-output/',\n",
    "        #'KmsKeyId': 'string'\n",
    "    },\n",
    "    DataAccessRoleArn='arn:aws:iam::788405746112:role/uday',\n",
    "    ClientRequestToken='topic-classification'\n",
    ")"
   ]
  },
  {
   "cell_type": "code",
   "execution_count": 16,
   "metadata": {},
   "outputs": [
    {
     "data": {
      "text/plain": [
       "{'JobId': 'cdc02addb61eaedd73c6591c56d843ea',\n",
       " 'JobStatus': 'SUBMITTED',\n",
       " 'ResponseMetadata': {'RequestId': '599aa461-bcaf-4aeb-a3d4-067f9e177299',\n",
       "  'HTTPStatusCode': 200,\n",
       "  'HTTPHeaders': {'x-amzn-requestid': '599aa461-bcaf-4aeb-a3d4-067f9e177299',\n",
       "   'content-type': 'application/x-amz-json-1.1',\n",
       "   'content-length': '68',\n",
       "   'date': 'Wed, 27 May 2020 09:33:15 GMT'},\n",
       "  'RetryAttempts': 0}}"
      ]
     },
     "execution_count": 16,
     "metadata": {},
     "output_type": "execute_result"
    }
   ],
   "source": [
    "classification_response"
   ]
  },
  {
   "cell_type": "code",
   "execution_count": 17,
   "metadata": {},
   "outputs": [
    {
     "name": "stdout",
     "output_type": "stream",
     "text": [
      "{'DocumentClassificationJobProperties': {'JobId': 'cdc02addb61eaedd73c6591c56d843ea', 'JobName': 'test-classification', 'JobStatus': 'COMPLETED', 'SubmitTime': datetime.datetime(2020, 5, 27, 15, 3, 15, 94000, tzinfo=tzlocal()), 'EndTime': datetime.datetime(2020, 5, 27, 15, 9, 23, 358000, tzinfo=tzlocal()), 'DocumentClassifierArn': 'arn:aws:comprehend:us-west-2:788405746112:document-classifier/bbc-train', 'InputDataConfig': {'S3Uri': 's3://bbc-classification/test_set_aws.csv', 'InputFormat': 'ONE_DOC_PER_LINE'}, 'OutputDataConfig': {'S3Uri': 's3://bbc-output/788405746112-CLN-cdc02addb61eaedd73c6591c56d843ea/output/output.tar.gz'}, 'DataAccessRoleArn': 'arn:aws:iam::788405746112:role/uday'}, 'ResponseMetadata': {'RequestId': '17b67121-2e15-48a9-aba3-00ac809f5648', 'HTTPStatusCode': 200, 'HTTPHeaders': {'x-amzn-requestid': '17b67121-2e15-48a9-aba3-00ac809f5648', 'content-type': 'application/x-amz-json-1.1', 'content-length': '575', 'date': 'Wed, 27 May 2020 10:36:43 GMT'}, 'RetryAttempts': 0}}\n"
     ]
    }
   ],
   "source": [
    "describe_document_classification_job_response = client.describe_document_classification_job(\n",
    "    JobId='cdc02addb61eaedd73c6591c56d843ea'\n",
    ")\n",
    "print(describe_document_classification_job_response)"
   ]
  },
  {
   "cell_type": "code",
   "execution_count": 19,
   "metadata": {},
   "outputs": [
    {
     "data": {
      "text/plain": [
       "{'DocumentClassificationJobPropertiesList': [{'JobId': 'cdc02addb61eaedd73c6591c56d843ea',\n",
       "   'JobName': 'test-classification',\n",
       "   'JobStatus': 'COMPLETED',\n",
       "   'SubmitTime': datetime.datetime(2020, 5, 27, 15, 3, 15, 94000, tzinfo=tzlocal()),\n",
       "   'EndTime': datetime.datetime(2020, 5, 27, 15, 9, 23, 358000, tzinfo=tzlocal()),\n",
       "   'DocumentClassifierArn': 'arn:aws:comprehend:us-west-2:788405746112:document-classifier/bbc-train',\n",
       "   'InputDataConfig': {'S3Uri': 's3://bbc-classification/test_set_aws.csv',\n",
       "    'InputFormat': 'ONE_DOC_PER_LINE'},\n",
       "   'OutputDataConfig': {'S3Uri': 's3://bbc-output/788405746112-CLN-cdc02addb61eaedd73c6591c56d843ea/output/output.tar.gz'},\n",
       "   'DataAccessRoleArn': 'arn:aws:iam::788405746112:role/uday'}],\n",
       " 'ResponseMetadata': {'RequestId': '5614220c-f092-437e-82d6-96324e6f7441',\n",
       "  'HTTPStatusCode': 200,\n",
       "  'HTTPHeaders': {'x-amzn-requestid': '5614220c-f092-437e-82d6-96324e6f7441',\n",
       "   'content-type': 'application/x-amz-json-1.1',\n",
       "   'content-length': '581',\n",
       "   'date': 'Wed, 27 May 2020 10:42:53 GMT'},\n",
       "  'RetryAttempts': 0}}"
      ]
     },
     "execution_count": 19,
     "metadata": {},
     "output_type": "execute_result"
    }
   ],
   "source": [
    "list_document_classification_jobs_response = client.list_document_classification_jobs(\n",
    "    Filter={\n",
    "         'JobName': 'test-classification',\n",
    "#        'JobStatus': 'COMPLETED',\n",
    "#         'SubmitTimeBefore': datetime(2020, 5, 24),\n",
    "#         'SubmitTimeAfter': datetime(2020, 5, 22)\n",
    "    },\n",
    "#     NextToken='next token optional',\n",
    "#     MaxResults=123\n",
    ")\n",
    "list_document_classification_jobs_response"
   ]
  },
  {
   "cell_type": "code",
   "execution_count": 20,
   "metadata": {},
   "outputs": [],
   "source": [
    "import jsonlines\n",
    "import pandas as pd"
   ]
  },
  {
   "cell_type": "code",
   "execution_count": 23,
   "metadata": {},
   "outputs": [],
   "source": [
    "out_dict=[]\n",
    "with jsonlines.open('predictions.jsonl','r') as f:\n",
    "    for line in f.iter():\n",
    "        out_dict.append(line['Classes'][0])"
   ]
  },
  {
   "cell_type": "code",
   "execution_count": 24,
   "metadata": {},
   "outputs": [
    {
     "data": {
      "text/plain": [
       "[{'Name': 'sport', 'Score': 0.9801},\n",
       " {'Name': 'politics', 'Score': 0.9991},\n",
       " {'Name': 'tech', 'Score': 1.0},\n",
       " {'Name': 'business', 'Score': 0.8709},\n",
       " {'Name': 'entertainment', 'Score': 0.9851},\n",
       " {'Name': 'business', 'Score': 0.5055},\n",
       " {'Name': 'entertainment', 'Score': 0.9458},\n",
       " {'Name': 'tech', 'Score': 0.9979},\n",
       " {'Name': 'business', 'Score': 0.9722},\n",
       " {'Name': 'sport', 'Score': 0.9257},\n",
       " {'Name': 'tech', 'Score': 1.0},\n",
       " {'Name': 'politics', 'Score': 0.9925},\n",
       " {'Name': 'sport', 'Score': 0.9976},\n",
       " {'Name': 'business', 'Score': 0.9889},\n",
       " {'Name': 'sport', 'Score': 0.9854},\n",
       " {'Name': 'business', 'Score': 0.9628},\n",
       " {'Name': 'entertainment', 'Score': 0.9655},\n",
       " {'Name': 'politics', 'Score': 0.9898},\n",
       " {'Name': 'sport', 'Score': 0.9828},\n",
       " {'Name': 'tech', 'Score': 1.0},\n",
       " {'Name': 'tech', 'Score': 1.0},\n",
       " {'Name': 'politics', 'Score': 0.9981},\n",
       " {'Name': 'business', 'Score': 0.8699},\n",
       " {'Name': 'politics', 'Score': 0.7993},\n",
       " {'Name': 'entertainment', 'Score': 0.9776}]"
      ]
     },
     "execution_count": 24,
     "metadata": {},
     "output_type": "execute_result"
    }
   ],
   "source": [
    "out_dict"
   ]
  },
  {
   "cell_type": "code",
   "execution_count": 25,
   "metadata": {},
   "outputs": [
    {
     "data": {
      "text/html": [
       "<div>\n",
       "<style scoped>\n",
       "    .dataframe tbody tr th:only-of-type {\n",
       "        vertical-align: middle;\n",
       "    }\n",
       "\n",
       "    .dataframe tbody tr th {\n",
       "        vertical-align: top;\n",
       "    }\n",
       "\n",
       "    .dataframe thead th {\n",
       "        text-align: right;\n",
       "    }\n",
       "</style>\n",
       "<table border=\"1\" class=\"dataframe\">\n",
       "  <thead>\n",
       "    <tr style=\"text-align: right;\">\n",
       "      <th></th>\n",
       "      <th>Name</th>\n",
       "      <th>Score</th>\n",
       "    </tr>\n",
       "  </thead>\n",
       "  <tbody>\n",
       "    <tr>\n",
       "      <th>0</th>\n",
       "      <td>sport</td>\n",
       "      <td>0.9801</td>\n",
       "    </tr>\n",
       "    <tr>\n",
       "      <th>1</th>\n",
       "      <td>politics</td>\n",
       "      <td>0.9991</td>\n",
       "    </tr>\n",
       "    <tr>\n",
       "      <th>2</th>\n",
       "      <td>tech</td>\n",
       "      <td>1.0000</td>\n",
       "    </tr>\n",
       "    <tr>\n",
       "      <th>3</th>\n",
       "      <td>business</td>\n",
       "      <td>0.8709</td>\n",
       "    </tr>\n",
       "    <tr>\n",
       "      <th>4</th>\n",
       "      <td>entertainment</td>\n",
       "      <td>0.9851</td>\n",
       "    </tr>\n",
       "  </tbody>\n",
       "</table>\n",
       "</div>"
      ],
      "text/plain": [
       "            Name   Score\n",
       "0          sport  0.9801\n",
       "1       politics  0.9991\n",
       "2           tech  1.0000\n",
       "3       business  0.8709\n",
       "4  entertainment  0.9851"
      ]
     },
     "execution_count": 25,
     "metadata": {},
     "output_type": "execute_result"
    }
   ],
   "source": [
    "pred_values=pd.DataFrame(out_dict,index=None)\n",
    "pred_values.head()"
   ]
  },
  {
   "cell_type": "code",
   "execution_count": 30,
   "metadata": {},
   "outputs": [
    {
     "name": "stdout",
     "output_type": "stream",
     "text": [
      "********** test_set without labels **********\n",
      "                                                   0\n",
      "0  Actress Roberts takes spider role  Actress Jul...\n",
      "1  Kirwan demands Italy consistency  Italy coach ...\n",
      "2  Labour battle plan 'hides Blair'  The Tories h...\n",
      "3  Italy 17-28 Ireland  Two moments of magic from...\n",
      "4  Jones happy with Henson heroics  Wales fly-hal...\n",
      "\n",
      "\n",
      "********** test_set with labels **********\n",
      "                                                   0              1\n",
      "0  Actress Roberts takes spider role  Actress Jul...  entertainment\n",
      "1  Kirwan demands Italy consistency  Italy coach ...          sport\n",
      "2  Labour battle plan 'hides Blair'  The Tories h...       politics\n",
      "3  Italy 17-28 Ireland  Two moments of magic from...          sport\n",
      "4  Jones happy with Henson heroics  Wales fly-hal...          sport\n"
     ]
    }
   ],
   "source": [
    "test_data=pd.read_csv('test_set.csv')\n",
    "actual=pd.read_csv('test_data_with_labels.csv')\n",
    "print('*'*10,\"test_set without labels\",'*'*10)\n",
    "print(test_data.head())\n",
    "print('\\n')\n",
    "print('*'*10,\"test_set with labels\",'*'*10)\n",
    "print(actual.head())"
   ]
  },
  {
   "cell_type": "code",
   "execution_count": 36,
   "metadata": {},
   "outputs": [],
   "source": [
    "result=pd.concat([actual,pred_values['Name']],axis=1)"
   ]
  },
  {
   "cell_type": "code",
   "execution_count": 41,
   "metadata": {},
   "outputs": [
    {
     "data": {
      "text/html": [
       "<div>\n",
       "<style scoped>\n",
       "    .dataframe tbody tr th:only-of-type {\n",
       "        vertical-align: middle;\n",
       "    }\n",
       "\n",
       "    .dataframe tbody tr th {\n",
       "        vertical-align: top;\n",
       "    }\n",
       "\n",
       "    .dataframe thead th {\n",
       "        text-align: right;\n",
       "    }\n",
       "</style>\n",
       "<table border=\"1\" class=\"dataframe\">\n",
       "  <thead>\n",
       "    <tr style=\"text-align: right;\">\n",
       "      <th></th>\n",
       "      <th>0</th>\n",
       "      <th>1</th>\n",
       "      <th>Name</th>\n",
       "    </tr>\n",
       "  </thead>\n",
       "  <tbody>\n",
       "    <tr>\n",
       "      <th>0</th>\n",
       "      <td>Actress Roberts takes spider role  Actress Jul...</td>\n",
       "      <td>entertainment</td>\n",
       "      <td>sport</td>\n",
       "    </tr>\n",
       "    <tr>\n",
       "      <th>1</th>\n",
       "      <td>Kirwan demands Italy consistency  Italy coach ...</td>\n",
       "      <td>sport</td>\n",
       "      <td>politics</td>\n",
       "    </tr>\n",
       "    <tr>\n",
       "      <th>2</th>\n",
       "      <td>Labour battle plan 'hides Blair'  The Tories h...</td>\n",
       "      <td>politics</td>\n",
       "      <td>tech</td>\n",
       "    </tr>\n",
       "    <tr>\n",
       "      <th>3</th>\n",
       "      <td>Italy 17-28 Ireland  Two moments of magic from...</td>\n",
       "      <td>sport</td>\n",
       "      <td>business</td>\n",
       "    </tr>\n",
       "    <tr>\n",
       "      <th>4</th>\n",
       "      <td>Jones happy with Henson heroics  Wales fly-hal...</td>\n",
       "      <td>sport</td>\n",
       "      <td>entertainment</td>\n",
       "    </tr>\n",
       "    <tr>\n",
       "      <th>5</th>\n",
       "      <td>UKIP outspent Labour on EU poll  The UK Indepe...</td>\n",
       "      <td>politics</td>\n",
       "      <td>business</td>\n",
       "    </tr>\n",
       "    <tr>\n",
       "      <th>6</th>\n",
       "      <td>Film production 'falls' 40% in UK  The number ...</td>\n",
       "      <td>entertainment</td>\n",
       "      <td>entertainment</td>\n",
       "    </tr>\n",
       "    <tr>\n",
       "      <th>7</th>\n",
       "      <td>Election deal faltered over Heath role  The To...</td>\n",
       "      <td>politics</td>\n",
       "      <td>tech</td>\n",
       "    </tr>\n",
       "    <tr>\n",
       "      <th>8</th>\n",
       "      <td>O'Sullivan quick to hail Italians  Ireland coa...</td>\n",
       "      <td>sport</td>\n",
       "      <td>business</td>\n",
       "    </tr>\n",
       "    <tr>\n",
       "      <th>9</th>\n",
       "      <td>Libya takes $1bn in unfrozen funds  Libya has ...</td>\n",
       "      <td>business</td>\n",
       "      <td>sport</td>\n",
       "    </tr>\n",
       "    <tr>\n",
       "      <th>10</th>\n",
       "      <td>Galloway targets 'New Labour' MP  George Gallo...</td>\n",
       "      <td>politics</td>\n",
       "      <td>tech</td>\n",
       "    </tr>\n",
       "    <tr>\n",
       "      <th>11</th>\n",
       "      <td>Speak easy plan for media players  Music and f...</td>\n",
       "      <td>tech</td>\n",
       "      <td>politics</td>\n",
       "    </tr>\n",
       "    <tr>\n",
       "      <th>12</th>\n",
       "      <td>Taxes must be trusted - Kennedy  Public trust ...</td>\n",
       "      <td>politics</td>\n",
       "      <td>sport</td>\n",
       "    </tr>\n",
       "    <tr>\n",
       "      <th>13</th>\n",
       "      <td>Fantasy book wins Hollywood deal  A British au...</td>\n",
       "      <td>entertainment</td>\n",
       "      <td>business</td>\n",
       "    </tr>\n",
       "    <tr>\n",
       "      <th>14</th>\n",
       "      <td>Cactus diet deal for Phytopharm  A slimming ai...</td>\n",
       "      <td>business</td>\n",
       "      <td>sport</td>\n",
       "    </tr>\n",
       "    <tr>\n",
       "      <th>15</th>\n",
       "      <td>Double injury blow strikes Wales  Wales centre...</td>\n",
       "      <td>sport</td>\n",
       "      <td>business</td>\n",
       "    </tr>\n",
       "    <tr>\n",
       "      <th>16</th>\n",
       "      <td>The comic book genius of Stan Lee  Stan Lee, t...</td>\n",
       "      <td>entertainment</td>\n",
       "      <td>entertainment</td>\n",
       "    </tr>\n",
       "    <tr>\n",
       "      <th>17</th>\n",
       "      <td>Brazil approves bankruptcy reform  A major ref...</td>\n",
       "      <td>business</td>\n",
       "      <td>politics</td>\n",
       "    </tr>\n",
       "    <tr>\n",
       "      <th>18</th>\n",
       "      <td>Format wars could 'confuse users'  Technology ...</td>\n",
       "      <td>tech</td>\n",
       "      <td>sport</td>\n",
       "    </tr>\n",
       "    <tr>\n",
       "      <th>19</th>\n",
       "      <td>Rivals of the Â£400 Apple...  The Mac mini is ...</td>\n",
       "      <td>tech</td>\n",
       "      <td>tech</td>\n",
       "    </tr>\n",
       "    <tr>\n",
       "      <th>20</th>\n",
       "      <td>Mobiles get set for visual radio  The growth i...</td>\n",
       "      <td>tech</td>\n",
       "      <td>tech</td>\n",
       "    </tr>\n",
       "    <tr>\n",
       "      <th>21</th>\n",
       "      <td>US peer-to-peer pirates convicted  The first c...</td>\n",
       "      <td>tech</td>\n",
       "      <td>politics</td>\n",
       "    </tr>\n",
       "    <tr>\n",
       "      <th>22</th>\n",
       "      <td>Brazil plays down Varig rescue  The Brazilian ...</td>\n",
       "      <td>business</td>\n",
       "      <td>business</td>\n",
       "    </tr>\n",
       "    <tr>\n",
       "      <th>23</th>\n",
       "      <td>Hollywood hunts hits at Sundance  The Sundance...</td>\n",
       "      <td>entertainment</td>\n",
       "      <td>politics</td>\n",
       "    </tr>\n",
       "    <tr>\n",
       "      <th>24</th>\n",
       "      <td>Bombardier chief to leave company  Shares in t...</td>\n",
       "      <td>business</td>\n",
       "      <td>entertainment</td>\n",
       "    </tr>\n",
       "  </tbody>\n",
       "</table>\n",
       "</div>"
      ],
      "text/plain": [
       "                                                    0              1  \\\n",
       "0   Actress Roberts takes spider role  Actress Jul...  entertainment   \n",
       "1   Kirwan demands Italy consistency  Italy coach ...          sport   \n",
       "2   Labour battle plan 'hides Blair'  The Tories h...       politics   \n",
       "3   Italy 17-28 Ireland  Two moments of magic from...          sport   \n",
       "4   Jones happy with Henson heroics  Wales fly-hal...          sport   \n",
       "5   UKIP outspent Labour on EU poll  The UK Indepe...       politics   \n",
       "6   Film production 'falls' 40% in UK  The number ...  entertainment   \n",
       "7   Election deal faltered over Heath role  The To...       politics   \n",
       "8   O'Sullivan quick to hail Italians  Ireland coa...          sport   \n",
       "9   Libya takes $1bn in unfrozen funds  Libya has ...       business   \n",
       "10  Galloway targets 'New Labour' MP  George Gallo...       politics   \n",
       "11  Speak easy plan for media players  Music and f...           tech   \n",
       "12  Taxes must be trusted - Kennedy  Public trust ...       politics   \n",
       "13  Fantasy book wins Hollywood deal  A British au...  entertainment   \n",
       "14  Cactus diet deal for Phytopharm  A slimming ai...       business   \n",
       "15  Double injury blow strikes Wales  Wales centre...          sport   \n",
       "16  The comic book genius of Stan Lee  Stan Lee, t...  entertainment   \n",
       "17  Brazil approves bankruptcy reform  A major ref...       business   \n",
       "18  Format wars could 'confuse users'  Technology ...           tech   \n",
       "19  Rivals of the Â£400 Apple...  The Mac mini is ...           tech   \n",
       "20  Mobiles get set for visual radio  The growth i...           tech   \n",
       "21  US peer-to-peer pirates convicted  The first c...           tech   \n",
       "22  Brazil plays down Varig rescue  The Brazilian ...       business   \n",
       "23  Hollywood hunts hits at Sundance  The Sundance...  entertainment   \n",
       "24  Bombardier chief to leave company  Shares in t...       business   \n",
       "\n",
       "             Name  \n",
       "0           sport  \n",
       "1        politics  \n",
       "2            tech  \n",
       "3        business  \n",
       "4   entertainment  \n",
       "5        business  \n",
       "6   entertainment  \n",
       "7            tech  \n",
       "8        business  \n",
       "9           sport  \n",
       "10           tech  \n",
       "11       politics  \n",
       "12          sport  \n",
       "13       business  \n",
       "14          sport  \n",
       "15       business  \n",
       "16  entertainment  \n",
       "17       politics  \n",
       "18          sport  \n",
       "19           tech  \n",
       "20           tech  \n",
       "21       politics  \n",
       "22       business  \n",
       "23       politics  \n",
       "24  entertainment  "
      ]
     },
     "execution_count": 41,
     "metadata": {},
     "output_type": "execute_result"
    }
   ],
   "source": [
    "result"
   ]
  },
  {
   "cell_type": "code",
   "execution_count": 40,
   "metadata": {},
   "outputs": [
    {
     "data": {
      "text/plain": [
       "0     False\n",
       "1     False\n",
       "2     False\n",
       "3     False\n",
       "4     False\n",
       "5     False\n",
       "6      True\n",
       "7     False\n",
       "8     False\n",
       "9     False\n",
       "10    False\n",
       "11    False\n",
       "12    False\n",
       "13    False\n",
       "14    False\n",
       "15    False\n",
       "16     True\n",
       "17    False\n",
       "18    False\n",
       "19     True\n",
       "20     True\n",
       "21    False\n",
       "22     True\n",
       "23    False\n",
       "24    False\n",
       "dtype: bool"
      ]
     },
     "execution_count": 40,
     "metadata": {},
     "output_type": "execute_result"
    }
   ],
   "source": [
    "result[\"Name\"]==result['1']"
   ]
  },
  {
   "cell_type": "code",
   "execution_count": null,
   "metadata": {},
   "outputs": [],
   "source": []
  }
 ],
 "metadata": {
  "kernelspec": {
   "display_name": "Python 3",
   "language": "python",
   "name": "python3"
  },
  "language_info": {
   "codemirror_mode": {
    "name": "ipython",
    "version": 3
   },
   "file_extension": ".py",
   "mimetype": "text/x-python",
   "name": "python",
   "nbconvert_exporter": "python",
   "pygments_lexer": "ipython3",
   "version": "3.7.7"
  }
 },
 "nbformat": 4,
 "nbformat_minor": 2
}
