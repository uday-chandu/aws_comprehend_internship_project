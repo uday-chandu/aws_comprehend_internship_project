{
 "cells": [
  {
   "cell_type": "code",
   "execution_count": 1,
   "metadata": {},
   "outputs": [],
   "source": [
    "import pandas as pd\n",
    "import os,glob,re,nltk\n",
    "from sklearn.utils import shuffle"
   ]
  },
  {
   "cell_type": "code",
   "execution_count": 2,
   "metadata": {
    "scrolled": true
   },
   "outputs": [
    {
     "name": "stdout",
     "output_type": "stream",
     "text": [
      "['Libya takes $1bn in unfrozen funds\\n\\nLibya has withdrawn $1bn in assets from the US, assets which had previously been frozen for almost 20 years, the Libyan central bank has said.\\n\\nThe move came after the US lifted a trade ban to reward Tripoli for giving up weapons of mass destruction and vowing to compensate Lockerbie victims. The original size of Libya\\'s funds was $400m, the central bank told Reuters. However, the withdrawal did not mean that Libya had cut its ties with the US, he added.\\n\\n\"We are in the process of opening accounts in banks in the United States,\" the central bank\\'s vice president Farhat Omar Ben Gadaravice said. The previously frozen assets had been invested in various countries and are believed to have included equity holdings in banks. The US ban on trade and economic activity with Tripoli - imposed by then president Ronald Regan in 1986 after a series of what the US deemed terrorist acts, including the 1988 Lockerbie air crash - was suspended in April. Bankers from the two country\\'s had been working on how to unfreeze Libya\\'s assets.\\n', 'Cactus diet deal for Phytopharm\\n\\nA slimming aid made from a southern African cactus is set to be developed by UK firm Phytopharm and Unilever.\\n\\nAnglo-Dutch food giant Unilever will help the pharmaceutical firm develop the snacks containing Hoodia extract. Phytopharm shares jumped 10.7% on the news, with analysts saying sales of $600m (Â£309m) a year were possible. The plant, licensed to Phytopharm in 1997, has been used for thousands of years by the Sans bushmen of the Kalahari desert to stave off hunger. Studies have reportedly shown the plant curbs appetite instead of reducing calorific intake like many existing products.\\n\\nPhytopharm will receive an initial fee of Â£6.5m from Unilever - out of a potential total of Â£21m - as well as future royalties on product sales. Under the deal, production of the Hoodia cactus at Phytopharm\\'s nursery in South Africa will also rise from eight million plants to potentially hundreds of millions, said Phytopharm chief executive Richard Dixey. The firm had initially hoped to market a slimming drug from Hoodia with Pfizer. But the research collaboration came to an end in 2003. Analysts said Unilever could launch the new products in 2007. \"This deal goes a long way to restoring the market faith in Phytopharm\\'s pipeline after the Pfizer exit,\" said analyst Erling Refsum at Nomura.\\n', 'Brazil plays down Varig rescue\\n\\nThe Brazilian government has played down claims that it could step in to save the country\\'s biggest airline.\\n\\nBrazil\\'s airport authority chief Carlos Wilson had claimed the government was on the brink of stepping in to save Varig, Brazil\\'s flagship airline. However, the country\\'s vice president Jose Alencar has said the government still is looking for a solution. Varig is struggling under a huge debt burden of an estimated debt of 6.5 billion reais ($2.3bn or Â£1.2bn). Asked whether a rescue was on the cards following a meeting of the country\\'s Congress to discuss the airline\\'s crisis, Mr Alencar replied: \"No, I don\\'t think so. We will see.\"\\n\\nEarlier, Mr Wilson had said that president Luiz Inacio Lula da Silva has decided to step in and a decree of some kind of intervention could be signed this week. \"In practice, it will be an intervention, although this is not the technical name used\", he said. An intervention means that the government would take administrative control of the company and its finances. For that to happen Varig\\'s main shareholder, the non-profit Ruben Berta Foundation which represents the airline\\'s employees, would have to be removed, Mr Wilson said. However, no jobs would be lost and the airline would keep on flying, he added. Varig, which operates in 18 countries apart from Brazil, has been driven to the brink of collapse because of the country\\'s economic downturn.\\n\\nThe depreciation of Brazil\\'s currency has had a direct impact on the airline\\'s dollar debt as well as some of its costs. Business has improved recently with demand for air travel increasing and a recovery in the Brazilian economy. The airline could also win a sizeable windfall from a compensation claim against the government. On Tuesday the courts awarded Varig 2bn reais ($725m), after ruling in favour of its compensation claim against the government for freezing tariffs from 1985 to 1992. But the government can appeal the decision.\\n', 'Bombardier chief to leave company\\n\\nShares in train and plane-making giant Bombardier have fallen to a 10-year low following the departure of its chief executive and two members of the board.\\n\\nPaul Tellier, who was also Bombardier\\'s president, left the company amid an ongoing restructuring. Laurent Beaudoin, part of the family that controls the Montreal-based firm, will take on the role of CEO under a newly created management structure. Analysts said the resignations seem to have stemmed from a boardroom dispute. Under Mr Tellier\\'s tenure at the company, which began in January 2003, plans to cut the worldwide workforce of 75,000 by almost a third by 2006 were announced. The firm\\'s snowmobile division and defence services unit were also sold and Bombardier started the development of a new aircraft seating 110 to 135 passengers.\\n\\nMr Tellier had indicated he wanted to stay at the world\\'s top train maker and third largest manufacturer of civil aircraft until the restructuring was complete. But Bombardier has been faced with a declining share price and profits. Earlier this month the firm said it earned $10m (Â£19.2m) in the third quarter, down from a profit of $133m a year ago. \"I understand the board\\'s concern that I would not be there for the long-term and the need to develop and execute strategies, and the need to reshape the management structure at this time,\" Mr Tellier said in a statement on Monday. Bombardier said restructuring plans drawn up by Mr Tellier\\'s would continue to be implemented. Shares in Bombardier lost 65 Canadian cents or 25% on the news to 1.90 Canadian dollars before rallying to 2.20 Canadian dollars.\\n', \"Brazil approves bankruptcy reform\\n\\nA major reform of Brazil's bankruptcy laws has been approved by the country's Congress, in a move which it is hoped will cut the cost of borrowing.\\n\\nThe bill, proposed in 1993, has finally been approved by the leadership of President Luiz Inacio Lula da Silva. The old law, dating from 1945, gave priority first to workers, second to tax revenue and finally to creditors. The new legislation changes this, giving priority to creditors and limiting payments to workers. The new regulations will limit payments to workers to 150 times the minimum monthly salary, which is currently $94. The law also makes it more difficult for a company to declare bankruptcy. However, when a firm is declared bankrupt it will gain protection from creditors for 180 days while a recovery plan is worked out.\\n\\nThe proposals were opposed in the past by leftist parties, including Mr Lula's Worker Party. They considered that they undermined workers' rights. But President Lula became a defender of the reforms, arguing that the country's bank lending margins were among the highest in the world and were damaging the economy. According to Andreas Adriano of Latin Trade Magazine, the new bankruptcy law will help in reducing the spread - difference between the interest rates of the banks and federal bonds. Nevertheless, Mr Adriano said to reduce the basic interest rate the Central Bank needs to change its policy, focusing not only on inflation but also on economic growth.\\n\", 'Hollywood hunts hits at Sundance\\n\\nThe Sundance Film Festival, the movie industry\\'s top destination for uncovering the next independent hits and new talent, opens on Thursday.\\n\\nThe event will see screen executives decamp from Hollywood to Park City, Utah, for 11 days to search for low-key movies that could make it big in 2005. Open Water, Napoleon Dynamite, Garden State and Super-Size Me were all snapped up at last year\\'s festival. But stars like Keanu Reeves and Pierce Brosnan also have films showing there. The festival is being opened by a screening of quirky comedy Happy Endings, starring former Friends actress Lisa Kudrow and Maggie Gyllenhaal, on Thursday.\\n\\nKudrow\\'s Friends co-star, David Schwimmer, plays a divorced drunkard in Duane Hopwood, while Brosnan stars as a hit man in comedy The Matador. Keanu Reeves appears in coming-of-age tale Thumbsucker while Kevin Costner and Michael Keaton are among the other big names whose films are involved. Robert Redford founded Sundance in 1981 and it has gone on to showcase future successes such as Reservoir Dogs, The Blair Witch Project and The Full Monty. But it has received criticism that it has become more commercial and mainstream over the years. \"As much as the press argues that Sundance has completely changed, it hasn\\'t changed that much,\" festival director Geoffrey Gilmore said. \"It\\'s still a place for discovery. It\\'s a place for common ground among film-makers and audiences more than it is the celebrity stuff.\" Other films generating interest before this year\\'s festival include Hustle & Flow, about an aspiring rapper, The Squid and the Whale, an autobiographical film by writer-director Noah Baumbach, and comedy/drama Pretty Persuasion. It also has two new international cinema competitions.\\n', \"Actress Roberts takes spider role\\n\\nActress Julia Roberts will play the part of a spider in a new film version of children's classic Charlotte's Web.\\n\\nShe will voice Charlotte, who teams up with a girl to save their friend Wilbur the pig, in the story by EB White. The film - a mix of live action and animation - will be Roberts' first project since the birth of her twins, Hazel and Phinnaeus, two months ago. Oprah Winfrey will voice a goose, John Cleese will voice a sheep and Steve Buscemi a rat in the 2006 film.\\n\\nTen-year-old Dakota Fanning will play Fern, the girl at the centre of the story, in the film to be directed by 13 Going on 30 film-maker Gary Winick. Filming is due to begin in Melbourne, Australia, later this month. Charlotte's Web has sold 45 million copies since it was published in 1952. An animated version was made in 1973 but this will be the first live action film. The actor who will voice Wilbur the pig has yet to be revealed.\\n\", 'Film production \\'falls\\' 40% in UK\\n\\nThe number of British films produced in the UK fell 40% in 2004, with movies starring Johnny Depp and Jude Law among those affected, Screen Daily has said.\\n\\nTwenty-seven British films were made in the UK last year following a drop in funding, compared with 45 in 2003, according to the trade weekly. It attributed the drop to tighter tax laws and reduced funding from sources such as the National Lottery. UK and US co-productions in Britain fell from 102 in 2003 to 81 last year.\\n\\nLast year the government closed tax loopholes that many film investors had taken advantage of to fund films in the UK. Several projects were shelved as they faced the implications of this clampdown, coupled with the reduction in movie funding from traditional sources including the lottery and Miramax Films. Shooting on period drama Tulip Fever, which was to star Jude Law and Keira Knightley, was postponed indefinitely while shooting of The Libertine starring Johnny Depp was moved to the Isle of Man.\\n\\n\"There isn\\'t anything coming in to replace (the funds),\" said The Libertine\\'s executive producer Marc Samuelson. \"We are in a hiatus.\" Films with \"medium\" budgets of up to Â£9m, a similar level to box office hits Vera Drake, Calendar Girls and Enduring Love, are expected to be worst hit by the tax clampdown. The strength of the pound against the dollar is expected to have resulted in a fall in the number of US films shot in the UK during 2004, Screen International added. Big budget co-productions, such as the Harry Potter series, continued to be shot in the UK, however. The UK Film Council said the drop was partly due to 2003 being an especially good year for British film production, when Bridget Jones: The Edge of Reason, Wimbledon and Thunderbirds were all filmed in the UK.\\n\\n\"The drop was expected as there was no way 2003\\'s record level of production could be bettered,\" the council\\'s spokesperson said. \"The reduction in indigenous film production in 2004 was due to a variety of factors, including the continuing long-term trend towards co-production of films in more than one country and changes to financing arrangements.\" It was \"too early\" to predict whether the downward trend in UK production would continue throughout 2005, the UK Film Council said. In September the government introduced subsidies worth up to Â£4m per film for medium budget films, under new Treasury measures. It is also due to announce a replacement for UK film tax relief scheme Section 48 in July.\\n', 'Fantasy book wins Hollywood deal\\n\\nA British author has had the film rights to her children\\'s bestseller snapped up for a seven-figure sum, with Ridley Scott set to direct.\\n\\nMichelle Paver\\'s Wolf Brother, a fantasy set 6,000 years ago, is the first in a planned series of six books. Film studio Fox has bought the rights for around $4m (Â£2.13m) for Scott\\'s company Scott Free to develop. The director said he was \"thrilled\" with the project. \"Wolf Brother is an enchanting book,\" he said. Paver, who lives in London and previously worked as a lawyer, began writing the book in 1982 while studying biochemistry at Oxford University.\\n\\nShe was an established author of love stories when she turned the work-in-progress into a children\\'s novel. It was published in 2004, with Paver earning an advance of $5m (Â£2.8m) - the highest sum ever paid for a debut children\\'s book. Wolf Brother tells the story of Torak, a 12-year-old hunter who lives in the forest. After his father is killed he teams up with a wolf cub and sets out to rid the forest of an evil force. Paver is currently writing the second book in the series. \"Michelle Paver lives and breathes the worlds she writes about,\" said a spokesman for the author. \"I\\'ve told her about the film deal but at the moment she is writing the second book and her mind is 6000 years away deep in the primeval forest.\"\\n', 'The comic book genius of Stan Lee\\n\\nStan Lee, the man responsible for a string of comic superheroes that have become household names, has won a court battle for a slice of the profits from the hit Spider-Man movies.\\n\\nMany marvel at the man who gave his characters extraordinary powers and everyday headaches - a formula which revolutionised comics. Born in 1922 to poor working-class Jewish immigrants from Romania, Stan Lieberman, got a job in Timely Publications, a company owned by a relative. He was assigned to the comics division and - thanks to a fertile imagination - rose to editor by the age of 18. For more than 20 years, he was \"the ultimate hack\" - knocking out crime stories, horrors, westerns, anything to sate the appetite of his juvenile readership. Words of more than two syllables were discouraged. Characters were either all good or bad, with no shades of grey. So embarrassed was Lieberman by much of what he was writing that he refused to put his real name on the byline. He assumed the \"dumb name\", Stan Lee, now legally adopted.\\n\\nBy the time he was 40, Lee had decided he was too old for the comic game. His British-born wife, Joan, suggested he had nothing to lose and, for his swansong, should write the kind of characters he really wanted to create. After a rival comic had come up with a superteam consisting of Batman, Superman and Wonder Woman, Timely needed to respond.\\n\\nLee\\'s answer, in 1961, was the Fantastic Four - a team of astronauts who gained super powers after being bombarded with cosmic rays. They were to change Lee\\'s life, and the comics industry, forever. Lee gave each character individual, everyday teenage problems such as dandruff, ingrown toenails and acne. They would frequently fall out with their parents and each other. The fan letters poured in. Without immediately knowing it, Stan Lee had ushered in the golden age of comics, and his imagination was rekindled. His Marvel universe spawned the new title of Marvel Comics. Soon after, nerdy Peter Parker was transformed - after a bite from an irradiated spider - into someone who could crawl up the sides of New York\\'s skyscrapers. Spider-Man was born. He was to become an icon of modern popular culture. Spidey, as he is affectionately known, had quite extraordinary powers - yet he had problems at work, at home and with his girlfriends. At last, the teenager was no longer just the sidekick, but the main hero. And the hero was no longer just brawn, he had brains too.\\n\\n\"Just because he\\'s a hero and has super powers doesn\\'t mean he doesn\\'t have problems,\" Stan Lee told the BBC. The Incredible Hulk, The Mighty Thor, Iron Man and the rest all grappled with problems like drug abuse, bigotry and social inequality. Radically, Lee gave the artists responsible for the comic designs credits for their work. Jack Kirby, Frank Miller, John Romitaand and others achieved cult status in their own right. Other superheroes broke new ground in other ways. Daredevil was blind, Black Panther was black and Silver Surfer pondered the state of humanity. Lee\\'s influence remains. Some years ago the Marvel hero, Northstar, came out of the closet. In its heyday, Marvel was selling 50 million copies a year. Until he retired from editing in 1971, Stan Lee wrote all the copy for Marvel\\'s covers.\\n\\nIn 1999, his Stan Lee Media venture, aimed at marrying comic-strips with the internet, went spectacularly wrong. Lee went bankrupt and his business partner landed in prison for fraud. In 2001 though, he started a new company entitled POW! (Purveyors of Wonder) Entertainment, which is currently developing films and television programmes. His latest project is a superhero based on a real person - Jay J Armes, who has metal claws after losing both hands aged 12 and fights crime with a tiger. But his 40-year-old creations are still as enduring as ever - with X-Men, The Hulk and Daredevil have all been turned into Hollywood action movies in the last five years. But Spider-Man has been the biggest box office hit, with the 2002 original and its 2004 sequel taking almost $1.6bn (Â£857m) in ticket sales around the world - before DVD and merchandise sales are counted. It seems Stan Lee is as indestructible as his heroes.\\n', 'Taxes must be trusted - Kennedy\\n\\nPublic trust in taxes is breaking down because Labour and Tories are not being straight with people on the issue, Lib Dem leader Charles Kennedy has said.\\n\\nA day ahead of the government\\'s pre-Budget report, Mr Kennedy used a speech to say his party was facing up to \"painful economic realities\". He said the current level of taxation was about right, although he would put a new 50% tax on top earners. Other parties have accused the Lib Dems of making uncosted promises. Mr Kennedy made it clear he was determined to counter that accusation. The Lib Dems have already published what they say are the full costings for all their plans and Wednesday\\'s speech did not announce new policies.\\n\\nSpeaking at the Commonwealth Club, Mr Kennedy said it was critical for a political party to have economic credibility, both on what it promised and what it was expected to deliver. He said. \"Budgets have to add up. Tough choices are needed in public spending.\" The Lib Dems would cut \"low priority\" spending, including the government\\'s ID cards scheme and the Child Trust Fund.\\n\\nThose cutbacks would free up funds for increasing basic state pensions for over-75s, putting more police on the streets and reintroducing fee eye and dental checks, he said. The Lib Dems argue they were honest about taxes in the past by calling for a 1p rise on income tax. Now they say the only simple tax rise they want is a new 50% tax band for top earners to pay for scrapping university tuition fees, providing free personal care for elderly and disabled people and keeping local taxes down. There would also be a local income tax to replace council tax and a number of changes to environmental taxes to ensure it is the \"polluter who pays\".\\n\\nThe Lib Dems say the Tories have only laid out possible options for cutting taxes to grab headlines while Labour has hidden most of its tax rises. Mr Kennedy said: \"That contract with the people - that the government will only tax fairly and will spend their money wisely - can only be sustained if the political parties are straightforward about their plans. \"With the stealth tax strategy of Gordon Brown, the obvious unfairness of our current tax system - especially the council tax, and the empty promises of the Conservative party on this issue - it is no wonder that trust in taxation is breaking down.\" He challenged the Treasury to open up its books so the National Audit Office can report on the government\\'s performance.\\n\\nConservative co-chairman Liam Fox said: Liam Fox said \"If Charles Kennedy is serious about making his budgets add up he should start by explaining how they would fund their 100 spending commitments. \"The reality is, the Lib Dems lack the courage to tackle waste and bureaucracy, and the only people who would face \\'tough choices\\' would be the families who would be Â£630 worse off a year. \" And Chancellor Gordon Brown said the Lib Dem figures did not add up. He accused the party of claiming it would spend less while across the country committing itself to spend more.\\n', 'Galloway targets \\'New Labour\\' MP\\n\\nGeorge Galloway is to stand against pro-Iraq war Labour MP Oona King at the next general election.\\n\\nMr Galloway, who on Thursday won Â£150,000 in libel damages from the Daily Telegraph said he would contest Bethnal Green, in London, for Respect. The Glasgow Kelvin MP, who was expelled from Labour over his anti Iraq war stance, accused Ms King of being a \"New Labour stooge\". Ms King said she was \"delighted\" at the chance to take on Mr Galloway.\\n\\nMr Galloway\\'s current constituency is set to disappear under planned boundary changes in Scotland.\\n\\nThe 50-year-old MP launched Respect, the Unity Coalition, in January along with 1,000 anti-war activists, and the Muslim Association of Britain. The party\\'s declared aims are an end to the occupation of Iraq, the repeal of anti-union laws and the end of privatisation. Speaking from a cafe in Brick Lane, east London, Mr Galloway said he had accepted the party\\'s invitation to stand with \"great honour and pride\".\\n\\nHe added: \"Here in this constituency of Bethnal Green and Bow there is a New Labour stooge MP. \"A stooge who will sing any song, make any speech, do any dance, do anything she is told to by Tony Blair - irrespective of how her constituents are adversely affected or how strongly they feel to the contrary.\" Ms King has represented the constituency since 1997. She said: \"I\\'m delighted I\\'ve been given the chance to finish him (Mr Galloway) off, and believe me I will. \"I know many people around the country will be grateful, not least his constituents in Scotland who he has shamelessly abandoned.\" In June\\'s European Parliament elections, Respect failed to gain enough votes for an MEP but did come first in Tower Hamlets borough, most of which is covered by the Commons constituency of Bethnal Green and Bow.\\n\\nA month later it gained a council seat in a by-election in St Dunstan\\'s and Stepney Green ward, Tower Hamlets. Mr Galloway said that in next year\\'s expected general election and local elections a year later, the party would \"turn the East End of London into a fortress\". Both the Conservatives and the Liberal Democrats have chosen prospective parliamentary candidates for Bethnal Green and Bow from the Bangladeshi population, which makes up almost half the electorate. The Telegraph was sued for libel by Mr Galloway after the newspaper claimed he received money from Saddam Hussein\\'s regime in Iraq. The newspaper said it was in the public interest to publish the claims, based on documents found in Baghdad. Mr Justice Eady said he was \"obliged to compensate Mr Galloway... and to make an award for the purposes of restoring his reputation\".\\n', 'Election deal faltered over Heath role\\n\\nThe Tories failed to hold onto power in 1974 after Liberals demanded Sir Edward Heath quit in return for co-operation.\\n\\nDocuments released after 30 years reveal the failed negotiations by the then prime minister following the dramatic February general election. Liberal leader Jeremy Thorpe appeared willing to form a coalition government. But it partly collapsed over the Conservative leader\\'s own role, prompting the Queen to ask Harold Wilson to form a Labour government. The February 1974 general election surprised the nation when it created a hung parliament with no party in overall control. Sir Edward had gone to the country for a fresh mandate amid the spiralling economic crisis, a miners\\' strike and the subsequent three-day week. Labour emerged with the most seats - but its 301 MPs were 17 short of the number Mr Wilson needed to form a majority.\\n\\nSir Edward, who had received more votes but had fewer MPs, believed he had the authority to remain at Number 10 providing the 14 Liberal MPs would support his government. He said the Liberals could keep out Labour in three ways: lend ad hoc support to his minority government, help draw up the government\\'s programme, or have up to three Cabinet members in a coalition with the Conservatives. According to the documents released at the National Archives, the \"friendly and easy\" first meeting indicated that both Sir Edward and Mr Thorpe thought they had the makings of a deal. Mr Thorpe was in high spirits, having just led his party to a historic jump in support. He also argued for a grand coalition of all three main parties. But Sir Edward said that was impossible because the Labour left was set against it and the pair settled on trying for a Conservative-Liberal pact.\\n\\nHours later Sir Edward\\'s hopes of a deal unravelled as Mr Thorpe\\'s colleagues refused to support him. \"Jeremy said he was encountering a rather embarrassing problem with his colleagues about the prime minister personally,\" reads a telephone memo for Mr Heath.\\n\\n\"They feel they could not agree to serve as long as he is the prime minister. \"Asked if this was his own view he said - no it was not, I am very close to Ted and thought he was by far the most able man we had and he would be perfectly happy to serve - it was only some of his colleagues who were being difficult.\" The following day, the stickling points had clearly become two-fold: Mr Thorpe\\'s colleagues wanted electoral reform and Sir Edward\\'s resignation. Mr Thorpe told Sir Edward: \"I am sorry this is obviously hell - a nightmare on stilts for you. \"Somehow I personally hope that we can work something out.\"\\n\\nFour hours later, Sir Edward called the Liberal leader back to Downing Street in a last attempt at a deal. The minutes of the meeting show how the chance of a coalition government quickly evaporated. \"The PM said he was bound to tell Mr Thorpe that his colleagues had told him that they would not agree to serve under any other prime minister. Mr Thorpe was at liberty to verify this by talking to one or two of the prime minister\\'s colleagues.\" Documents show that Sir Edward mulled over resigning and perhaps returning to coalition government in a Labour-led coalition. But he already knew Mr Wilson would not form a coalition with either the Liberals or the Conservatives because of the opposition of the Labour left. Within hours of his final talks with Mr Thorpe, Sir Edward told the nation he was resigning and the Queen invited Mr Wilson to form a new minority government.\\n', 'UKIP outspent Labour on EU poll\\n\\nThe UK Independence Party outspent both Labour and the Liberal Democrats in the European elections, new figures show.\\n\\nUKIP, which campaigned on a slogan of \"Say no to Europe\", spent Â£2.36m on the campaign - second only to the Conservatives\\' Â£3.13m. The campaign took UKIP into third place with an extra 10 MEPs. Labour\\'s campaign cost Â£1.7m, the Lib Dems\\' Â£1.19m and the Greens\\' Â£404,000, according to figures revealed by the Electoral Commission on Wednesday. Much of the UKIP funding came from Yorkshire millionaire Sir Paul Sykes, who helped bankroll the party\\'s billboard campaign. Critics have accused the party of effectively buying votes. But a UKIP spokesman said Labour and the Conservatives had spent Â£10m between them on the last general election. \"With the advantages of public money the others have, the only way the smaller parties can get their message across is by buying the advertising space,\" he added.\\n', 'Labour battle plan \\'hides Blair\\'\\n\\nThe Tories have accused Tony Blair of being \"terrified\" of scrutiny after Labour unveiled details of how it will fight the next general election.\\n\\nIn a break with tradition, the party will ditch the leader\\'s battle bus and daily press briefings in Westminster. Instead Mr Blair will travel to key cities and marginal seats to deliver the party\\'s message. Labour election chief Alan Milburn denied the party was trying to \"hide\" the prime minister.\\n\\nHe promised \"the most positive and upbeat election campaign Labour has ever run\". But Tory co-chairman Liam Fox said Labour\\'s plans showed Mr Blair was \"terrified of facing proper scrutiny\".\\n\\n\"At a time when the British people are looking for more accountability and openness, this government turns its back on them; abandoning plans to tour the country and scared to face journalists in a press conference - it does rather beg the question, \\'What have they got to hide?\\'\" The general election is widely expected next May and all the parties are stepping up their campaign preparations. Mr Milburn said the economy would take centre stage in Labour\\'s campaign in what would be a \"watershed\" election and the \"last stand of the Thatcherites\". Mr Milburn said Labour\\'s slogan would be \"Britain is working - Don\\'t let the Tories wreck it.\"\\n\\nThe tone of the campaign, said Mr Milburn, would be more conversational than rhetorical; more spontaneous less scripted; less national more local and less based on issues and more concentrated on people. The approach is particularly designed to appeal to women voters, he said. Mr Milburn brushed aside questions over why the chancellor was not present at the Cabinet meeting to discuss election strategy particularly since such importance was being given to the economy. \"I\\'m not privy to everybody\\'s diary,\" he said. Mr Brown has headed Labour\\'s preparations for previous polls but Mr Milburn is taking that role this time. In a break with the past, Labour will not hold a daily news conference in London. It will not be a \"battle bus\" style campaign either, he said.\\n\\nIn previous elections, each party leader has had their own battle bus transporting national newspaper, television and radio reporters to staged campaign events around the country. Mr Milburn said Labour\\'s media effort this time would focus more on local newspapers and broadcasters, with every local radio station given the chance to interview the prime minister. Mr Milburn said there would also be a greater effort to set up face-to-face meetings between ministers and the electorate. Former Downing Street media chief Alastair Campbell is also returning to advise Labour on media strategy and campaigning.\\n\\nMr Milburn said no decision had been taken yet over whether David Blunkett would have a prominent role in the election. Liberal Democrat chief executive Lord Rennard suggested Labour was avoiding news conferences in London because it wanted less scrutiny of its record and proposals. \"Tony Blair seems to have disappeared from Labour leaflets and broadcasts,\" he said. \"In contrast Charles Kennedy will feature prominently in the Liberal Democrat campaign right across the country.\"\\n', 'O\\'Sullivan quick to hail Italians\\n\\nIreland coach Eddie O\\'Sullivan heaped praise on Italy after seeing his side stutter to a 28-17 victory in Rome.\\n\\n\"It was a hell of a tough game,\" said O\\'Sullivan. \"We struggled in the first half because we hadn\\'t the football. \"Italy played really well. They handled the ball well in terms of kicking it, if that\\'s not an oxymoron. \"We said before the game that it might take until 10 minutes from the end for this game to be won, and that\\'s how it turned out.\" Ireland struggled to cope with Italy\\'s fierce start and were indebted to skipper Brian O\\'Driscoll, who set up tries for Geordan Murphy and Peter Stringer. \"We had our first attack in the Italian half after 22 minutes,\" said O\\'Sullivan. \"We had a good return, with three first-half possessions in their half and we scored twice. \"The second half was about spending more time in their half.\" Scrum-half Peter Stringer was also glad that Ireland escaped wtih a victory. \"All credit to them,\" he told BBC Sport. \"We knew it would be tough coming to Rome. They always give us a tough game here and they showed a lot of spirit. \"They had a lot of ball in the first half but we got a few scores when we got into their 22.\"\\n', \"Italy 17-28 Ireland\\n\\nTwo moments of magic from Brian O'Driscoll guided Ireland to a workmanlike victory against Italy.\\n\\nA pair of classic outside breaks from the Ireland captain set up tries for Geordan Murphy and Peter Stringer. Italy led 9-8 early in the second half but Stringer's try gave Ireland a lead they never lost. The hosts cut the gap to 18-12 with 10 minutes left and nearly scored through Ludovico Nitoglia, but Denis Hickie's try ensured an Irish victory. Italy came flying out of the blocks and took the lead through a Luciano Orquera penalty after seven minutes.\\n\\nIt could have been better for the hosts but the fly-half missed two kickable penalties and Ireland drew level with a Ronan O'Gara penalty midway through the first half. The Italians were driving at the heart of the Irish defence and, for the first quarter, the Irish pack struggled to secure any ball for their talented backs.\\n\\nWhen they finally did, just before the half-hour mark, O'Driscoll promptly created a sparkling try for Murphy. The Ireland captain ran a dummy scissors and made a magical outside break before drawing the full-back and putting the diving Murphy in at the corner. O'Gara missed the twice-taken conversion and the visitors found themselves trailing once again. Roland de Marigny took over the kicking duties for Italy from the hapless Orquera, and he landed a penalty either side of the break to edge Italy into a 9-8 lead.\\n\\nThe only Ireland player offering a real threat was O'Driscoll, and it was his break that set up the second try for the visitors. Shane Horgan threw an overhead pass as he was about to be forced into touch and Stringer scooted over, with O'Gara landing the tricky conversion. A penalty apiece saw Ireland leading 18-12 as the game entered the final quarter, but they were lucky to survive when Italy launched a series of attacks. Winger Nitoglia dropped the ball as he reached for the line and Italy nearly rumbled over from a driving maul.\\n\\nAn O'Gara penalty put Ireland more than a converted try ahead and they made the game safe when Hickie latched onto an inside pass from Murphy and crossed for a converted try. O'Driscoll limped off late on, joining centre partner Gordon D'Arcy on the sidelines, and the final word went to Italy. Prop Martin Castrogiovanni powered over for a try which was fitting reward for an Italian pack which had kept the Irish under pressure throughout.\\n\\nDe Marigny; Mi Bergamasco, Canale, Masi, Nitoglia; Orquera, Troncon; Lo Cicero, Ongaro, Castrogiovanni; Dellape, Bortolami; Persico, Ma Bergamasco, Parisse.\\n\\nPerugini, Intoppa, Del Fava, Dal Maso, Griffen, Pozzebon, Robertson.\\n\\nMurphy, Horgan, O'Driscoll, D'Arcy, Hickie, O'Gara, Stringer, Corrigan, Byrne, Hayes, O'Kelly, O'Connell, S Easterby, Leamy, Foley.\\n\\nSheahan, Horan, O'Callaghan, Miller, G Easterby, Humphreys, Dempsey.\\n\\nP O'Brien (New Zealand)\\n\", 'Jones happy with Henson heroics\\n\\nWales fly-half Stephen Jones admitted he was happy to hand Gavin Henson responsibility for taking the match-winning kick against England.\\n\\nJones had missed three earlier shots at goal when Wales, 9-8 down, were awarded a long-range penalty with four minutes left in Cardiff. \"I knew the percentages of Gavin reaching it were far higher than me,\" Jones said. \"When he said he wanted it, there were no problems.\" Jones had seen a long-range effort fall a whisker under the crossbar on the hour, before Charlie Hodgson put England in front with 10 minutes left. \"I looked at where it was and I knew I was going to struggle to make it,\" Jones added. \"I said to Gareth (Thomas, the Wales captain) \\'This is touch and go.\\' It was out of my range and obviously Gavin is phenomenal when it comes to distance. He was confident and fancied it. \"There were no questions that he\\'d miss it the way he was playing. He had a superb game.\" Jones was happy to hail Henson\\'s heroic contribution to Wales\\' first win over England in Cardiff since 1993. \"Physically he\\'s a specimen: he\\'s a balanced player, he glides when he runs and obviously he\\'s got a great kicking game as well,\" Jones said.\\n\\n\"His defence was superb, he made some great hits and he had a great game. \"I\\'m glad he\\'s Welsh.\" Victory over England for the first time since 1999 will no doubt fuel expectations of what Wales might achieve in this year\\'s Six Nations. But they now face three away fixtures in Italy, France and Scotland before completing their campaign against Ireland in Cardiff. \"People all over the world want to see Wales back at the top table of world rugby,\" said a proud coach Mike Ruddock. \"But we are not there yet. The next step is finding the consistency to get further wins. \"We have to travel this week and we can\\'t afford to get too giddy about this result. \"We have got to be professional and keep focused on facing Italy.\"\\n\\nNone more so than Henson, who can now expect to have the same sort of spotlight thrust upon him as the likes of Jonny Wilkinson and Brian O\\'Driscoll. The confident 23-year-old is undaunted by the prospect of dealing with such weighty expectations however. \"I\\'m the sort of player who likes pressure on me,\" he said. \"It makes me more concentrated and I think I perform better under more pressure. \"I set a high standard against England and I\\'ve got to back it up next week. \"Two years ago when we played Italy I wasn\\'t involved and we lost, so we\\'ve got to put that right next week.\"\\n', 'Double injury blow strikes Wales\\n\\nWales centre Sonny Parker and number eight Ryan Jones will miss Saturday\\'s game with Italy because of injury.\\n\\nParker has not recovered from a trapped nerve in his neck that kept him out of the win over England, and Tom Shanklin is expected to continue at centre. Jones damaged his collar bone after coming on as a replacement against England and joins flanker Colin Charvis (foot injury) on the sidelines. Meanwhile, Mike Ruddock may make Gavin Henson his first-choice kicker in Rome. The centre was Wales\\' hero in the 11-9 Six Nations win over England, landing a huge late penalty from wide out to clinch the game. First-choice kicker Stephen Jones handed over responsibility because of Henson\\'s greater kicking range, but the fly-half had already missed a number of shots at goal. \"Our first aim was to get Gavin settled into the team, but giving him the kicks is something we\\'ll talk about in selection this week,\" Wales coach Mike Ruddock told BBC Sport Wales. Henson himself says he is relishing all the media hype that has been heaped on him since last Saturday\\'s game. \"I thrive on it and think it makes me perform better,\" he said. \"I\\'m glad it\\'s a short week before the Italy game. There was so much build-up before England, but we fly out to Rome on Thursday and we\\'ll be back playing again.\"\\n', 'Kirwan demands Italy consistency\\n\\nItaly coach John Kirwan has challenged his side to match the performance they produced in pushing Ireland close when they meet Wales on Saturday.\\n\\nDespite losing 28-17 in Sunday\\'s Six Nations encounter, the Italians confirmed their continuing improvement. \"Our goal is to match every side we face and against Ireland we showed we could do that,\" said Kirwan. \"But the most important thing is that we build on that performance when we play Wales on Saturday.\" Italy\\'s half-backs had a mixed afternoon, with recalled scrum-half Alessandro Troncon impressing but fly-half Luciano Orquera having an off-day with the boot. Kirwan said: \"I was very happy with Troncon. He had an incredible game - he was very good in attack and defence. \"Orquera\\'s kicking was off but he showed great courage in defence. \"He also followed the game plan. We have to give him confidence because he has the capability to do well.\"\\n', 'Rivals of the Â£400 Apple...\\n\\nThe Mac mini is the cheapest Apple computer ever. But though it is cheap for a Mac how does it compare to PCs that cost about the same amount? Dot.life tries to find out if you can you get more for your money if you stick with the beige box.\\n\\n\\n\\n\\n\\nAn extremely small computer that is designed to bring the Macintosh to the masses.\\n\\nApple offer a less powerful Mac Mini for Â£339 but the Â£399 models has a 1.4ghz Power PC chip, 80 gigabyte hard drive, combined CD burner/DVD player. It comes equipped with USB and Firewire ports for peripheral connections, Ethernet port for broadband, a port for standard video output and an audio/headphone jack.The machine comes with Mac OS X, the Apple operating system, the software suite iLife, which includes iTunes, iPhoto, iMovie, iDVD and GarageBand.\\n\\nA monitor, keyboard or mouse. There is also no built-in support for wireless technology or any speakers. The lack of a DVD burner is an omission in the age of backing-up important software. Wireless and a dvd burner can be added at extra cost.\\n\\nApple are targeting people who already have a main computer and want to upgrade - especially PC users who have used an Apple iPod.\\n\\nCompact and stylish, the Mac mini would not look out of place in any home. Apple computers are famously user friendly and offer much better network security, which means fewer viruses. The package of software that comes with the machine is the best money can buy.\\n\\nThe Mac mini is just a box. If you don\\'t already have a monitor etc, adding them to the package sees the value for money begin to dwindle. Macs don\\'t offer the upgrade flexibility of a PC and the machine\\'s specifications lack the horse power for tasks such as high-end video editing or games.\\n\\n\"The Mac Mini puts the Macintosh within the reach of everyone,\" an Apple spokesman said. \"It will bring more customers to the platform, especially PC users and owners.\"\\n\\n\\n\\nAn entry-level machine designed for basic home use.\\n\\nA 2.6ghz Intel Celeron chip, 40 gigabyte hard drive, 256mb, combined CD burner/DVD player. It comes equipped with a 17 inch monitor, keyboard and mouse. The machine has 6 USB ports and an Ethernet port for broadband connection. There\\'s also a port for standard video output. The machine comes with Windows XP home edition. It provides basic home tools such as a media player and word processor.\\n\\nA DVD burner, or any wireless components built in. Wireless and a dvd burner can be added at extra cost.\\n\\nHomes and small offices, including those looking to add a low cost second computer.\\n\\nCost is the clear advantage. The Dell provides enough power and software for basic gaming and internet surfing. It\\'s easily upgradeable so a bigger hard drive, better sound and graphics cards can be added.\\n\\nThe Dell is hardly stylish and the hard drive is on the small size for anyone wanting to store photos or a decent sized digital music collection.\\n\\n\"This machine is for small businesses and for people who want a second computer for basic home use, perhaps in a kids bedroom,\" a spokesman for Dell said. \"I think we offer better value once you realise all the extras needed for the Mac Mini.\"\\n\\n\\n\\nA desktop computer that PC Pro magazine dubbed best performer in a group test of machines that cost only Â£399 (Â£469 including VAT).\\n\\nA good basic PC that, according to PC Pro, has \"superb upgrade potential\". For your money you get a 1.8GHz AMD Sempron processor, 512MB of Ram, 120GB hard drive, DVD writer, 16-inch monitor, mouse, keyboard and Windows XP2\\n\\nMuch more than the basics. It cannot handle 3D graphics and has no Firewire slots.\\n\\nThose on a limited budget who want a machine they can add to and improve as their cash allows.\\n\\nIt\\'s cheap and has plenty of room to improve but that could end up making it expensive in the long run. It\\'s a good basic workhorse.\\n\\nIt\\'s not pretty and has a monitor rather than a flat-panel display. Some of the upgrades offered by JAL to the basic model are pricey. You might find that you want to chop and change quite quickly.\\n\\nNick Ross, deputy labs editor at PC Pro, said the important point about buying a cheap and cheerful PC is the upgrade path. Interest has switched from processor power to graphics and sound cards as that\\'s what makes the difference in games. \"Even manufacturers are not going to be marketing machines as faster,\" he said, \"they\\'ll emphasise the different features.\"\\n\\n\\n\\nA computer built from bits you buy and put together yourself.\\n\\nA surprisingly good PC sporting an AMD Athlon XP 2500 processor, 512 megabytes Ram, a graphics card with 128 Ram on board plus TV out, a 40 GB hard drive, CD-writer and DVD player, Windows XP Home.\\n\\nAnything else. You\\'re building it so you have to buy all the software you want to install and do your own trouble-shooting and tech support. Building your own machine is easier than it used to be but you need to read specifications carefully to make sure all parts work together.\\n\\nExperienced and keen PC users. Building your own PC, or upgrading the one you have, is a great way to improve your understanding of how it all works.\\n\\nIt\\'s cheap, you can specify exactly what you want and you get the thrill of putting it together yourself. And a bigger thrill if everything works as it should.\\n\\nOnce it\\'s built you won\\'t be able to do much with it until you start buying software for it. If it starts to go wrong it might take a lot of fixing. As Gavin Cox of the excellent buildyourown.org.uk website put it: \"It will be tough to obtain/build a PC to ever be as compact and charming as the Mac mini.\"\\n\\n\"Performance-wise, it\\'s not \\'cutting edge\\' and is barely entry-level by today\\'s market, but up against the Mac mini, I believe it will hold its own and even pull a few more tricks,\" says Gavin Cox. The good news is that the machine is eminently expandable. By contrast, says Mr Cox, the Mac mini is almost disposable.\\n', 'Speak easy plan for media players\\n\\nMusic and film fans will be able to control their digital media players just by speaking to them, under plans in development by two US firms.\\n\\nScanSoft and Gracenote are developing technology to give people access to their film and music libraries simply by voice control. They want to give people hands-free access to digital music and films in the car, or at home or on the move. Huge media libraries on some players can make finding single songs hard. \"Voice command-and-control unlocks the potential of devices that can store large digital music collections,\" said Ross Blanchard, vice president of business development for Gracenote. \"These applications will radically change the car entertainment experience, allowing drivers to enjoy their entire music collections without ever taking their hands off the steering wheel,\" he added.\\n\\nGracenote provides music library information for millions of different albums for jukeboxes such as Apple\\'s iTunes. The new technology will be designed so that people can play any individual song or movie out of a collection, just by saying its name. Users will also be able to request music that fits a mood or an occasion, or a film just by saying the actor\\'s name. \"Speech is a natural fit for today\\'s consumer devices, particularly in mobile environments,\" said Alan Schwartz, vice president of SpeechWorks, a division of ScanSoft. \"Pairing our voice technologies with Gracenote\\'s vast music database will bring the benefits of speech technologies to a host of consumer devices and enable people to access their media in ways they\\'ve never imagined.\" The two firms did not say if they were developing the technology for languages other than English. Users will also be able to get more information on a favourite song they have been listening to by asking: \"What is this?\" Portable players are becoming popular in cars and a number of auto firms are working with Apple to device interfaces to control the firm\\'s iPod music player. But with tens of thousands of songs able to be stored on one player, voice control would make finding that elusive track by Elvis Presley much easier. The firms gave no indication about whether the iPod, or any other media player, were in mind for the use of the voice control technology. The companies estimate that the technology will be available in the fourth quarter of 2005.\\n', 'US peer-to-peer pirates convicted\\n\\nThe first convictions for piracy over peer-to-peer networks have been handed down in the US.\\n\\nNew Yorker William Trowbridge and Texan Michael Chicoine have pleaded guilty to charges that they infringed copyright by illegally sharing music, movies and software. The two men faced charges following raids in August on suspected pirates by the FBI. The pair face jail terms of up to five years and a $250,000 (Â£130,000) fine.\\n\\nIn a statement the US Department of Justice said the two men operated the central hubs in a piracy community organised across the Direct Connect peer-to-peer network. The piracy group called itself the Underground Network and membership of it demanded that users share between one and 100 gigabytes of files. Direct Connect allows users to set themselves up as central servers that act as co-ordinating spots for sharers. Users would swap files, such as films and music, by exchanging data over the network. During its investigation FBI agents reportedly downloaded 84 movies, 40 software programs, 13 games and 178 \"sound recordings\" from the five hubs that made up the larger piracy group. The raids were organised under the umbrella of Operation Digital Gridlock which was aimed at fighting \"criminal copyright theft on peer-to-peer networks\". In total, six raids were carried out in August. Five were on the homes of suspected copyright thieves and one on a net service firm. The Department of Justice said that both men pleaded guilty to one count of conspiracy to commit felony copyright infringement. They also pleaded guilty to acting for commercial advantage. The two men are due to be sentenced on 29 April.\\n', 'Format wars could \\'confuse users\\'\\n\\nTechnology firms Sony, Philips, Matsushita and Samsung are developing a common way to stop people pirating digital music and video.\\n\\nThe firms want to make a system that ensures files play on the hardware they make but also thwarts illegal copying. The move could mean more confusion for consumers already faced by many different, and conflicting, content control systems, experts warned. They say there are no guarantees the system will even prevent piracy.\\n\\nCurrently many online stores wrap up downloadable files in an own-brand control system that means they can only be played on a small number of media players. Systems that limit what people can do with the files they download are known as Digital Rights Management systems. By setting up the alliance to work on a common control system, the firms said they hope to end this current fragmentation of file formats. In a joint statement the firms said they wanted to let consumers enjoy \"appropriately licensed video and music on any device, independent of how they originally obtained that content\". The firms hope that it will also make it harder for consumers to make illegal copies of the music, movies and other digital content they have bought. Called the Marlin Joint Development Association, the alliance will define basic specifications that every device made by the electronics firms will conform to. Marlin will be built on technology from rights management firm Intertrust as well as an earlier DRM system developed by a group known as the Coral Consortium.\\n\\nThe move is widely seen as a way for the four firms to decide their own destiny on content control systems instead of having to sign up for those being pushed by Apple and Microsoft. Confusingly for consumers, the technology that comes out of the alliance will sit alongside the content control systems of rival firms such as Microsoft and Apple. \"In many ways the different DRM systems are akin to the different physical formats, such as Betamax and VHS, that consumers have seen in the past,\" said Ian Fogg, personal technology and broadband analyst at Jupiter Research. \"The difference is that it is very fragmented,\" he said. \"It\\'s not a two-horse race, it\\'s a five, six, seven or even eight-horse race\" Mr Fogg said consumers had to be very careful when buying digital content to ensure that it would play on the devices they own. He said currently there were even incompatibilities within DRM families. Although initiatives such as Microsoft\\'s \"Plays for Sure\" program could help remove some of the uncertainty, he said, life was likely to be confusing for consumers for some time to come.\\n\\nShelley Taylor, analyst and author of a report about online music services, said the locks and limits on digital files were done to maximise the cash that firms can make from consumers. Apple\\'s iTunes service was a perfect example of this, she said. \"Although iTunes has been hugely successful, Apple could not justify its existence if it did not help sell all those iPods,\" she said.\\n\\nShe said rampant competition between online music services, of which there are now 230 according to recent figures, could drive more openness and freer file formats. \"It always works out that consumer needs win out in the long run,\" she said, \"and the services that win in the long run are the ones that listen to consumers earliest.\" Ms Taylor said the limits legal download services place on files could help explain the continuing popularity of file-sharing systems that let people get hold of pirated pop. \"People want portability,\" she said, \"and with peer-to-peer they have 100% portability.\" Cory Doctorow, European co-ordinator for the Electronic Frontier Foundation which campaigns for consumers on many cyber-rights issues, expressed doubts that the Marlin system would achieve its aims. \"Not one of these systems has ever prevented piracy or illegal copying,\" he said. He said many firms readily admit that their DRM systems are little protection against skilled attackers such as the organised crime gangs that are responsible for most piracy. Instead, said Mr Doctorow, DRM systems were intended to control the group that electronics firms have most hold over - consumers. \"The studios and labels perceive an opportunity to sell you your media again and again - the iPod version, the auto version, the American and UK version, the ringtone version, and so on.\"\\n', 'Mobiles get set for visual radio\\n\\nThe growth in the mobile phone market in the past decade has been nothing less than astonishing, but the ability to communicate on the go is not the only reason we are hooked. Games, cameras and music players have all been added to our handsets in the last few years, but 2005 could see another big innovation that won\\'t just see a change in our mobile phone habits - it might alter the way we listen to the radio. Finnish handset giant Nokia has been working on a technology called Visual Radio, which takes an existing FM signal from a radio station and enables that station to add enhancements such as information and pictures. It is not the first time that such an idea has been suggested - the early days of DAB Digital Radio had similar intentions that never really saw the light of day.\\n\\nOne problem is that the name Visual Radio leads people to think of television but Reidar Wasenius, a senior project manager at Nokia, was adamant that Visual Radio should not be confused with the more traditional medium. He said: \"I\\'m very happy to say it\\'s not television, what we\\'re talking about is an enhancement of radio as we know it today. \"If you have a Visual Radio enabled handset, when you hear an artist you don\\'t know, or there\\'s a competition or vote that you\\'d like to participate in, you pull out your handset and with one click you turn on a visual channel parallel to the on-air broadcast you\\'ve just been listening to.\"\\n\\nThat visual channel is run from a computer within the radio station, and sends out different kinds of information to the handset depending on what you are listening to. As well as details on the track or artist of a particular song, there is also the ability to interact immediately with the radio station itself, in a similar way to digital television\\'s \"red button\" content.\\n\\nPossible interactive content includes competitions, votes and even the chance to rate the song that is playing. But the interactive aspect will make the service especially attractive to radio stations, who will be able to track the number of people taking part in such activities on a real-time basis. This in turn should lead to an additional source of revenue, as it is very likely that advertisers will be keen to exploit new opportunities to reach listeners.\\n\\nAs the Visual Radio content is transmitted by existing GPRS technology you would need to have that service enabled by your network. And there will be a cost for the service as well, although it may depend on your usage. \"If you enjoy the visual channel occasionally and interact it\\'ll be two or three pounds per month,\" said Mr Wasenius. \"But typically what we see happening is the operator offering a package deal for an \\'all you can eat\\' arrangement per month.\" The payment system could therefore be similar to the way that broadband internet works versus dial-up connections. One thing that is for sure - assuming that Nokia retains its market share in handsets, it is estimating that there will be 100 million Visual Radio-enabled mobile phones in circulation by the end of 2006. \"Basically, Visual Radio is not really revolutionary, but rather an evolution where we are providing tools with which people can participate in radio much more easily than ever before.\"\\n\\nThe first Visual Radio service in the UK will begin in a few months time with Virgin Radio, who are positive about the impact it could have on their listeners. Station manager Steve Taylor commented: \"Listeners can interact with the radio station in a new way. \"Not only does this give listeners more information on the music we play but means they can instantly purchase things they like; mp3 music downloads and the latest gig tickets.\" Initially Visual Radio functionality will be limited to two Nokia handsets due out soon - the 3230 and 7710 - but if successful, it is very likely that other manufacturers will want to join them.\\n\\nListen again to the interview on the Radio Five Live website.\\n']\n"
     ]
    }
   ],
   "source": [
    "path=os.listdir('bbc')\n",
    "text=[]\n",
    "topic=[]\n",
    "for folder in path:\n",
    "    files=glob.glob('bbc/'+folder+'/*.txt')\n",
    "    for file in files[300:305]:\n",
    "        data=open(file,'r').read()\n",
    "        text.append(data)\n",
    "        topic.append(folder)\n",
    "print(text[:50])"
   ]
  },
  {
   "cell_type": "code",
   "execution_count": 3,
   "metadata": {},
   "outputs": [
    {
     "name": "stdout",
     "output_type": "stream",
     "text": [
      "25\n"
     ]
    }
   ],
   "source": [
    "print(len(topic))"
   ]
  },
  {
   "cell_type": "code",
   "execution_count": 4,
   "metadata": {},
   "outputs": [],
   "source": [
    "df=pd.DataFrame([text,topic]).T"
   ]
  },
  {
   "cell_type": "code",
   "execution_count": 5,
   "metadata": {},
   "outputs": [
    {
     "data": {
      "text/html": [
       "<div>\n",
       "<style scoped>\n",
       "    .dataframe tbody tr th:only-of-type {\n",
       "        vertical-align: middle;\n",
       "    }\n",
       "\n",
       "    .dataframe tbody tr th {\n",
       "        vertical-align: top;\n",
       "    }\n",
       "\n",
       "    .dataframe thead th {\n",
       "        text-align: right;\n",
       "    }\n",
       "</style>\n",
       "<table border=\"1\" class=\"dataframe\">\n",
       "  <thead>\n",
       "    <tr style=\"text-align: right;\">\n",
       "      <th></th>\n",
       "      <th>0</th>\n",
       "      <th>1</th>\n",
       "    </tr>\n",
       "  </thead>\n",
       "  <tbody>\n",
       "    <tr>\n",
       "      <th>0</th>\n",
       "      <td>Libya takes $1bn in unfrozen funds\\n\\nLibya ha...</td>\n",
       "      <td>business</td>\n",
       "    </tr>\n",
       "    <tr>\n",
       "      <th>1</th>\n",
       "      <td>Cactus diet deal for Phytopharm\\n\\nA slimming ...</td>\n",
       "      <td>business</td>\n",
       "    </tr>\n",
       "    <tr>\n",
       "      <th>2</th>\n",
       "      <td>Brazil plays down Varig rescue\\n\\nThe Brazilia...</td>\n",
       "      <td>business</td>\n",
       "    </tr>\n",
       "    <tr>\n",
       "      <th>3</th>\n",
       "      <td>Bombardier chief to leave company\\n\\nShares in...</td>\n",
       "      <td>business</td>\n",
       "    </tr>\n",
       "    <tr>\n",
       "      <th>4</th>\n",
       "      <td>Brazil approves bankruptcy reform\\n\\nA major r...</td>\n",
       "      <td>business</td>\n",
       "    </tr>\n",
       "    <tr>\n",
       "      <th>5</th>\n",
       "      <td>Hollywood hunts hits at Sundance\\n\\nThe Sundan...</td>\n",
       "      <td>entertainment</td>\n",
       "    </tr>\n",
       "    <tr>\n",
       "      <th>6</th>\n",
       "      <td>Actress Roberts takes spider role\\n\\nActress J...</td>\n",
       "      <td>entertainment</td>\n",
       "    </tr>\n",
       "    <tr>\n",
       "      <th>7</th>\n",
       "      <td>Film production 'falls' 40% in UK\\n\\nThe numbe...</td>\n",
       "      <td>entertainment</td>\n",
       "    </tr>\n",
       "    <tr>\n",
       "      <th>8</th>\n",
       "      <td>Fantasy book wins Hollywood deal\\n\\nA British ...</td>\n",
       "      <td>entertainment</td>\n",
       "    </tr>\n",
       "    <tr>\n",
       "      <th>9</th>\n",
       "      <td>The comic book genius of Stan Lee\\n\\nStan Lee,...</td>\n",
       "      <td>entertainment</td>\n",
       "    </tr>\n",
       "    <tr>\n",
       "      <th>10</th>\n",
       "      <td>Taxes must be trusted - Kennedy\\n\\nPublic trus...</td>\n",
       "      <td>politics</td>\n",
       "    </tr>\n",
       "    <tr>\n",
       "      <th>11</th>\n",
       "      <td>Galloway targets 'New Labour' MP\\n\\nGeorge Gal...</td>\n",
       "      <td>politics</td>\n",
       "    </tr>\n",
       "    <tr>\n",
       "      <th>12</th>\n",
       "      <td>Election deal faltered over Heath role\\n\\nThe ...</td>\n",
       "      <td>politics</td>\n",
       "    </tr>\n",
       "    <tr>\n",
       "      <th>13</th>\n",
       "      <td>UKIP outspent Labour on EU poll\\n\\nThe UK Inde...</td>\n",
       "      <td>politics</td>\n",
       "    </tr>\n",
       "    <tr>\n",
       "      <th>14</th>\n",
       "      <td>Labour battle plan 'hides Blair'\\n\\nThe Tories...</td>\n",
       "      <td>politics</td>\n",
       "    </tr>\n",
       "    <tr>\n",
       "      <th>15</th>\n",
       "      <td>O'Sullivan quick to hail Italians\\n\\nIreland c...</td>\n",
       "      <td>sport</td>\n",
       "    </tr>\n",
       "    <tr>\n",
       "      <th>16</th>\n",
       "      <td>Italy 17-28 Ireland\\n\\nTwo moments of magic fr...</td>\n",
       "      <td>sport</td>\n",
       "    </tr>\n",
       "    <tr>\n",
       "      <th>17</th>\n",
       "      <td>Jones happy with Henson heroics\\n\\nWales fly-h...</td>\n",
       "      <td>sport</td>\n",
       "    </tr>\n",
       "    <tr>\n",
       "      <th>18</th>\n",
       "      <td>Double injury blow strikes Wales\\n\\nWales cent...</td>\n",
       "      <td>sport</td>\n",
       "    </tr>\n",
       "    <tr>\n",
       "      <th>19</th>\n",
       "      <td>Kirwan demands Italy consistency\\n\\nItaly coac...</td>\n",
       "      <td>sport</td>\n",
       "    </tr>\n",
       "    <tr>\n",
       "      <th>20</th>\n",
       "      <td>Rivals of the Â£400 Apple...\\n\\nThe Mac mini i...</td>\n",
       "      <td>tech</td>\n",
       "    </tr>\n",
       "    <tr>\n",
       "      <th>21</th>\n",
       "      <td>Speak easy plan for media players\\n\\nMusic and...</td>\n",
       "      <td>tech</td>\n",
       "    </tr>\n",
       "    <tr>\n",
       "      <th>22</th>\n",
       "      <td>US peer-to-peer pirates convicted\\n\\nThe first...</td>\n",
       "      <td>tech</td>\n",
       "    </tr>\n",
       "    <tr>\n",
       "      <th>23</th>\n",
       "      <td>Format wars could 'confuse users'\\n\\nTechnolog...</td>\n",
       "      <td>tech</td>\n",
       "    </tr>\n",
       "    <tr>\n",
       "      <th>24</th>\n",
       "      <td>Mobiles get set for visual radio\\n\\nThe growth...</td>\n",
       "      <td>tech</td>\n",
       "    </tr>\n",
       "  </tbody>\n",
       "</table>\n",
       "</div>"
      ],
      "text/plain": [
       "                                                    0              1\n",
       "0   Libya takes $1bn in unfrozen funds\\n\\nLibya ha...       business\n",
       "1   Cactus diet deal for Phytopharm\\n\\nA slimming ...       business\n",
       "2   Brazil plays down Varig rescue\\n\\nThe Brazilia...       business\n",
       "3   Bombardier chief to leave company\\n\\nShares in...       business\n",
       "4   Brazil approves bankruptcy reform\\n\\nA major r...       business\n",
       "5   Hollywood hunts hits at Sundance\\n\\nThe Sundan...  entertainment\n",
       "6   Actress Roberts takes spider role\\n\\nActress J...  entertainment\n",
       "7   Film production 'falls' 40% in UK\\n\\nThe numbe...  entertainment\n",
       "8   Fantasy book wins Hollywood deal\\n\\nA British ...  entertainment\n",
       "9   The comic book genius of Stan Lee\\n\\nStan Lee,...  entertainment\n",
       "10  Taxes must be trusted - Kennedy\\n\\nPublic trus...       politics\n",
       "11  Galloway targets 'New Labour' MP\\n\\nGeorge Gal...       politics\n",
       "12  Election deal faltered over Heath role\\n\\nThe ...       politics\n",
       "13  UKIP outspent Labour on EU poll\\n\\nThe UK Inde...       politics\n",
       "14  Labour battle plan 'hides Blair'\\n\\nThe Tories...       politics\n",
       "15  O'Sullivan quick to hail Italians\\n\\nIreland c...          sport\n",
       "16  Italy 17-28 Ireland\\n\\nTwo moments of magic fr...          sport\n",
       "17  Jones happy with Henson heroics\\n\\nWales fly-h...          sport\n",
       "18  Double injury blow strikes Wales\\n\\nWales cent...          sport\n",
       "19  Kirwan demands Italy consistency\\n\\nItaly coac...          sport\n",
       "20  Rivals of the Â£400 Apple...\\n\\nThe Mac mini i...           tech\n",
       "21  Speak easy plan for media players\\n\\nMusic and...           tech\n",
       "22  US peer-to-peer pirates convicted\\n\\nThe first...           tech\n",
       "23  Format wars could 'confuse users'\\n\\nTechnolog...           tech\n",
       "24  Mobiles get set for visual radio\\n\\nThe growth...           tech"
      ]
     },
     "execution_count": 5,
     "metadata": {},
     "output_type": "execute_result"
    }
   ],
   "source": [
    "df"
   ]
  },
  {
   "cell_type": "code",
   "execution_count": 6,
   "metadata": {},
   "outputs": [],
   "source": [
    "df = shuffle(df)"
   ]
  },
  {
   "cell_type": "code",
   "execution_count": 7,
   "metadata": {},
   "outputs": [
    {
     "data": {
      "text/html": [
       "<div>\n",
       "<style scoped>\n",
       "    .dataframe tbody tr th:only-of-type {\n",
       "        vertical-align: middle;\n",
       "    }\n",
       "\n",
       "    .dataframe tbody tr th {\n",
       "        vertical-align: top;\n",
       "    }\n",
       "\n",
       "    .dataframe thead th {\n",
       "        text-align: right;\n",
       "    }\n",
       "</style>\n",
       "<table border=\"1\" class=\"dataframe\">\n",
       "  <thead>\n",
       "    <tr style=\"text-align: right;\">\n",
       "      <th></th>\n",
       "      <th>0</th>\n",
       "      <th>1</th>\n",
       "    </tr>\n",
       "  </thead>\n",
       "  <tbody>\n",
       "    <tr>\n",
       "      <th>6</th>\n",
       "      <td>Actress Roberts takes spider role\\n\\nActress J...</td>\n",
       "      <td>entertainment</td>\n",
       "    </tr>\n",
       "    <tr>\n",
       "      <th>19</th>\n",
       "      <td>Kirwan demands Italy consistency\\n\\nItaly coac...</td>\n",
       "      <td>sport</td>\n",
       "    </tr>\n",
       "    <tr>\n",
       "      <th>14</th>\n",
       "      <td>Labour battle plan 'hides Blair'\\n\\nThe Tories...</td>\n",
       "      <td>politics</td>\n",
       "    </tr>\n",
       "    <tr>\n",
       "      <th>16</th>\n",
       "      <td>Italy 17-28 Ireland\\n\\nTwo moments of magic fr...</td>\n",
       "      <td>sport</td>\n",
       "    </tr>\n",
       "    <tr>\n",
       "      <th>17</th>\n",
       "      <td>Jones happy with Henson heroics\\n\\nWales fly-h...</td>\n",
       "      <td>sport</td>\n",
       "    </tr>\n",
       "  </tbody>\n",
       "</table>\n",
       "</div>"
      ],
      "text/plain": [
       "                                                    0              1\n",
       "6   Actress Roberts takes spider role\\n\\nActress J...  entertainment\n",
       "19  Kirwan demands Italy consistency\\n\\nItaly coac...          sport\n",
       "14  Labour battle plan 'hides Blair'\\n\\nThe Tories...       politics\n",
       "16  Italy 17-28 Ireland\\n\\nTwo moments of magic fr...          sport\n",
       "17  Jones happy with Henson heroics\\n\\nWales fly-h...          sport"
      ]
     },
     "execution_count": 7,
     "metadata": {},
     "output_type": "execute_result"
    }
   ],
   "source": [
    "df.head()"
   ]
  },
  {
   "cell_type": "code",
   "execution_count": 8,
   "metadata": {},
   "outputs": [],
   "source": [
    "#removing the '\\n' from the text\n",
    "df[0]=df[0].str.replace('\\n',' ')"
   ]
  },
  {
   "cell_type": "code",
   "execution_count": 9,
   "metadata": {},
   "outputs": [
    {
     "name": "stdout",
     "output_type": "stream",
     "text": [
      "6     Actress Roberts takes spider role  Actress Jul...\n",
      "19    Kirwan demands Italy consistency  Italy coach ...\n",
      "14    Labour battle plan 'hides Blair'  The Tories h...\n",
      "16    Italy 17-28 Ireland  Two moments of magic from...\n",
      "17    Jones happy with Henson heroics  Wales fly-hal...\n",
      "13    UKIP outspent Labour on EU poll  The UK Indepe...\n",
      "7     Film production 'falls' 40% in UK  The number ...\n",
      "12    Election deal faltered over Heath role  The To...\n",
      "15    O'Sullivan quick to hail Italians  Ireland coa...\n",
      "0     Libya takes $1bn in unfrozen funds  Libya has ...\n",
      "11    Galloway targets 'New Labour' MP  George Gallo...\n",
      "21    Speak easy plan for media players  Music and f...\n",
      "10    Taxes must be trusted - Kennedy  Public trust ...\n",
      "8     Fantasy book wins Hollywood deal  A British au...\n",
      "1     Cactus diet deal for Phytopharm  A slimming ai...\n",
      "18    Double injury blow strikes Wales  Wales centre...\n",
      "9     The comic book genius of Stan Lee  Stan Lee, t...\n",
      "4     Brazil approves bankruptcy reform  A major ref...\n",
      "23    Format wars could 'confuse users'  Technology ...\n",
      "20    Rivals of the Â£400 Apple...  The Mac mini is ...\n",
      "24    Mobiles get set for visual radio  The growth i...\n",
      "22    US peer-to-peer pirates convicted  The first c...\n",
      "2     Brazil plays down Varig rescue  The Brazilian ...\n",
      "5     Hollywood hunts hits at Sundance  The Sundance...\n",
      "3     Bombardier chief to leave company  Shares in t...\n",
      "Name: 0, dtype: object\n"
     ]
    }
   ],
   "source": [
    "df1=df[0]\n",
    "print(df1)"
   ]
  },
  {
   "cell_type": "code",
   "execution_count": 10,
   "metadata": {},
   "outputs": [],
   "source": [
    "df1.to_csv('test_set.csv',header=True,index=False)"
   ]
  },
  {
   "cell_type": "code",
   "execution_count": 12,
   "metadata": {},
   "outputs": [],
   "source": [
    "data=pd.read_csv('test_set.csv')"
   ]
  },
  {
   "cell_type": "code",
   "execution_count": 13,
   "metadata": {},
   "outputs": [
    {
     "data": {
      "text/html": [
       "<div>\n",
       "<style scoped>\n",
       "    .dataframe tbody tr th:only-of-type {\n",
       "        vertical-align: middle;\n",
       "    }\n",
       "\n",
       "    .dataframe tbody tr th {\n",
       "        vertical-align: top;\n",
       "    }\n",
       "\n",
       "    .dataframe thead th {\n",
       "        text-align: right;\n",
       "    }\n",
       "</style>\n",
       "<table border=\"1\" class=\"dataframe\">\n",
       "  <thead>\n",
       "    <tr style=\"text-align: right;\">\n",
       "      <th></th>\n",
       "      <th>0</th>\n",
       "    </tr>\n",
       "  </thead>\n",
       "  <tbody>\n",
       "    <tr>\n",
       "      <th>0</th>\n",
       "      <td>Actress Roberts takes spider role  Actress Jul...</td>\n",
       "    </tr>\n",
       "    <tr>\n",
       "      <th>1</th>\n",
       "      <td>Kirwan demands Italy consistency  Italy coach ...</td>\n",
       "    </tr>\n",
       "    <tr>\n",
       "      <th>2</th>\n",
       "      <td>Labour battle plan 'hides Blair'  The Tories h...</td>\n",
       "    </tr>\n",
       "    <tr>\n",
       "      <th>3</th>\n",
       "      <td>Italy 17-28 Ireland  Two moments of magic from...</td>\n",
       "    </tr>\n",
       "    <tr>\n",
       "      <th>4</th>\n",
       "      <td>Jones happy with Henson heroics  Wales fly-hal...</td>\n",
       "    </tr>\n",
       "  </tbody>\n",
       "</table>\n",
       "</div>"
      ],
      "text/plain": [
       "                                                   0\n",
       "0  Actress Roberts takes spider role  Actress Jul...\n",
       "1  Kirwan demands Italy consistency  Italy coach ...\n",
       "2  Labour battle plan 'hides Blair'  The Tories h...\n",
       "3  Italy 17-28 Ireland  Two moments of magic from...\n",
       "4  Jones happy with Henson heroics  Wales fly-hal..."
      ]
     },
     "execution_count": 13,
     "metadata": {},
     "output_type": "execute_result"
    }
   ],
   "source": [
    "data.head()"
   ]
  },
  {
   "cell_type": "code",
   "execution_count": 14,
   "metadata": {},
   "outputs": [],
   "source": [
    "df.to_csv('test_data_with_labels.csv',header=True,index=False)"
   ]
  },
  {
   "cell_type": "code",
   "execution_count": null,
   "metadata": {},
   "outputs": [],
   "source": []
  }
 ],
 "metadata": {
  "kernelspec": {
   "display_name": "Python 3",
   "language": "python",
   "name": "python3"
  },
  "language_info": {
   "codemirror_mode": {
    "name": "ipython",
    "version": 3
   },
   "file_extension": ".py",
   "mimetype": "text/x-python",
   "name": "python",
   "nbconvert_exporter": "python",
   "pygments_lexer": "ipython3",
   "version": "3.7.3"
  }
 },
 "nbformat": 4,
 "nbformat_minor": 2
}
